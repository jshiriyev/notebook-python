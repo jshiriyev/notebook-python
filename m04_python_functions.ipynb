{
 "cells": [
  {
   "cell_type": "markdown",
   "metadata": {
    "jp-MarkdownHeadingCollapsed": true
   },
   "source": [
    "## Function Definition"
   ]
  },
  {
   "cell_type": "markdown",
   "metadata": {},
   "source": [
    "### None Variable Return Functions"
   ]
  },
  {
   "cell_type": "code",
   "execution_count": 3,
   "metadata": {},
   "outputs": [],
   "source": [
    "# def function_name(parameters):\n",
    "#     \"\"\"docstring\"\"\"\n",
    "#     statement(s)"
   ]
  },
  {
   "cell_type": "code",
   "execution_count": 4,
   "metadata": {},
   "outputs": [],
   "source": [
    "def sayHi(): \n",
    "    print(\"Hello\")"
   ]
  },
  {
   "cell_type": "code",
   "execution_count": 5,
   "metadata": {},
   "outputs": [
    {
     "name": "stdout",
     "output_type": "stream",
     "text": [
      "Hello\n"
     ]
    }
   ],
   "source": [
    "sayHi()"
   ]
  },
  {
   "cell_type": "code",
   "execution_count": 6,
   "metadata": {},
   "outputs": [],
   "source": [
    "def sayHi(name):\n",
    "    print(\"Hello \" + name)"
   ]
  },
  {
   "cell_type": "code",
   "execution_count": 7,
   "metadata": {},
   "outputs": [
    {
     "name": "stdout",
     "output_type": "stream",
     "text": [
      "Hello Bob\n",
      "Hello Julia\n"
     ]
    }
   ],
   "source": [
    "sayHi(\"Bob\")\n",
    "sayHi(\"Julia\")"
   ]
  },
  {
   "cell_type": "code",
   "execution_count": 8,
   "metadata": {},
   "outputs": [],
   "source": [
    "def sayHi(name = \"guest\"): #default parametre\n",
    "    print(\"Hello, \" + name)"
   ]
  },
  {
   "cell_type": "code",
   "execution_count": 9,
   "metadata": {},
   "outputs": [
    {
     "name": "stdout",
     "output_type": "stream",
     "text": [
      "Hello, My friend\n"
     ]
    }
   ],
   "source": [
    "sayHi(\"My friend\")"
   ]
  },
  {
   "cell_type": "code",
   "execution_count": 10,
   "metadata": {},
   "outputs": [],
   "source": [
    "def sayHi2(name = \"guest\", surname = \" friend\"):\n",
    "    print(\"Hello, \" + name + surname + \" !\")"
   ]
  },
  {
   "cell_type": "code",
   "execution_count": 11,
   "metadata": {},
   "outputs": [
    {
     "name": "stdout",
     "output_type": "stream",
     "text": [
      "Hello, guest friend !\n",
      "Hello, John friend !\n",
      "Hello, John Travolta !\n"
     ]
    }
   ],
   "source": [
    "sayHi2()\n",
    "sayHi2(\"John\")\n",
    "sayHi2(\"John\",\" Travolta\")"
   ]
  },
  {
   "cell_type": "code",
   "execution_count": 12,
   "metadata": {},
   "outputs": [],
   "source": [
    "def sayHi2(name, surname = \" friend\"):\n",
    "    print(\"Hello, \" + name + surname)"
   ]
  },
  {
   "cell_type": "code",
   "execution_count": 13,
   "metadata": {},
   "outputs": [
    {
     "name": "stdout",
     "output_type": "stream",
     "text": [
      "Hello, Willy friend\n"
     ]
    }
   ],
   "source": [
    "sayHi2(\"Willy\")"
   ]
  },
  {
   "cell_type": "markdown",
   "metadata": {},
   "source": [
    "### Variable Return Function"
   ]
  },
  {
   "cell_type": "code",
   "execution_count": 14,
   "metadata": {},
   "outputs": [],
   "source": [
    "# def functionname( parameters ):\n",
    "#    \"function_docstring\"\n",
    "#     function_suite\n",
    "#     return [expression]"
   ]
  },
  {
   "cell_type": "code",
   "execution_count": 15,
   "metadata": {},
   "outputs": [],
   "source": [
    "def get_right_triangle_area(a,b):\n",
    "    result = (a * b)/2 \n",
    "    return result"
   ]
  },
  {
   "cell_type": "code",
   "execution_count": 16,
   "metadata": {},
   "outputs": [
    {
     "data": {
      "text/plain": [
       "15.0"
      ]
     },
     "execution_count": 16,
     "metadata": {},
     "output_type": "execute_result"
    }
   ],
   "source": [
    "get_right_triangle_area(5,6)"
   ]
  },
  {
   "cell_type": "code",
   "execution_count": 17,
   "metadata": {},
   "outputs": [],
   "source": [
    "result = get_right_triangle_area(2,3)"
   ]
  },
  {
   "cell_type": "code",
   "execution_count": 18,
   "metadata": {},
   "outputs": [
    {
     "data": {
      "text/plain": [
       "3.0"
      ]
     },
     "execution_count": 18,
     "metadata": {},
     "output_type": "execute_result"
    }
   ],
   "source": [
    "result"
   ]
  },
  {
   "cell_type": "code",
   "execution_count": 19,
   "metadata": {},
   "outputs": [],
   "source": [
    "def factorial(x):\n",
    "    \n",
    "    if x == 1:\n",
    "        return 1\n",
    "    else:\n",
    "        return (x * factorial(x-1))"
   ]
  },
  {
   "cell_type": "code",
   "execution_count": 20,
   "metadata": {},
   "outputs": [
    {
     "data": {
      "text/plain": [
       "120"
      ]
     },
     "execution_count": 20,
     "metadata": {},
     "output_type": "execute_result"
    }
   ],
   "source": [
    "factorial(5)"
   ]
  },
  {
   "cell_type": "markdown",
   "metadata": {
    "id": "h0AG2oeEUuci",
    "jp-MarkdownHeadingCollapsed": true
   },
   "source": [
    "## Lambda:\n",
    "\n",
    "Syntax: lambda arguments : expression"
   ]
  },
  {
   "cell_type": "markdown",
   "metadata": {
    "id": "ausD88iTU9i7"
   },
   "source": [
    "A lambda function can take any number of arguments, but they can return only one value in the form of expression.\n",
    "\n",
    "Single one line function ,Anoymous function(no name),no def, no return\n"
   ]
  },
  {
   "cell_type": "markdown",
   "metadata": {
    "id": "Gz52G1YTVaxh"
   },
   "source": [
    "Example:"
   ]
  },
  {
   "cell_type": "code",
   "execution_count": null,
   "metadata": {
    "colab": {
     "base_uri": "https://localhost:8080/"
    },
    "executionInfo": {
     "elapsed": 42,
     "status": "ok",
     "timestamp": 1632938614892,
     "user": {
      "displayName": "Şahbacı Ibrahimova",
      "photoUrl": "https://lh3.googleusercontent.com/a/default-user=s64",
      "userId": "05798501949350967913"
     },
     "user_tz": -240
    },
    "id": "9bzvZDMzU9J9",
    "outputId": "7087bc77-501d-4a11-883e-d93d196a0010"
   },
   "outputs": [
    {
     "name": "stdout",
     "output_type": "stream",
     "text": [
      "12\n"
     ]
    }
   ],
   "source": [
    "# Find sum of Three numbers\n",
    "def cem(a,b,c):\n",
    "    return a+b+c\n",
    "\n",
    "print(cem(3,4,5))"
   ]
  },
  {
   "cell_type": "markdown",
   "metadata": {
    "id": "fQG-b609VP6H"
   },
   "source": [
    "Instead of it we will write it in one line"
   ]
  },
  {
   "cell_type": "code",
   "execution_count": null,
   "metadata": {
    "colab": {
     "base_uri": "https://localhost:8080/"
    },
    "executionInfo": {
     "elapsed": 35,
     "status": "ok",
     "timestamp": 1632938614893,
     "user": {
      "displayName": "Şahbacı Ibrahimova",
      "photoUrl": "https://lh3.googleusercontent.com/a/default-user=s64",
      "userId": "05798501949350967913"
     },
     "user_tz": -240
    },
    "id": "0FbcnDiKUuqE",
    "outputId": "0bb03412-9f79-4a95-c7ce-cf320056f1c4"
   },
   "outputs": [
    {
     "name": "stdout",
     "output_type": "stream",
     "text": [
      "10\n"
     ]
    }
   ],
   "source": [
    "add=lambda a,b,c: print(a+b+c)\n",
    "add(4, 5, 1)"
   ]
  },
  {
   "cell_type": "markdown",
   "metadata": {
    "id": "aXaY9ywgUuuH"
   },
   "source": [
    "Another Example"
   ]
  },
  {
   "cell_type": "code",
   "execution_count": null,
   "metadata": {
    "colab": {
     "base_uri": "https://localhost:8080/"
    },
    "executionInfo": {
     "elapsed": 26,
     "status": "ok",
     "timestamp": 1632938614894,
     "user": {
      "displayName": "Şahbacı Ibrahimova",
      "photoUrl": "https://lh3.googleusercontent.com/a/default-user=s64",
      "userId": "05798501949350967913"
     },
     "user_tz": -240
    },
    "id": "wIWu_M_tUuya",
    "outputId": "1108d4a5-9d26-4120-b79a-589921337bf2"
   },
   "outputs": [
    {
     "name": "stdout",
     "output_type": "stream",
     "text": [
      "5\n"
     ]
    }
   ],
   "source": [
    "# Find Biggest element(Nested If else in lambda)\n",
    "def max(a,b,c):\n",
    "    if a>b and a>c:\n",
    "        return a\n",
    "    elif b>a and b>c:\n",
    "        return b\n",
    "    else:\n",
    "        return c\n",
    "\n",
    "print(max(3,4,5))"
   ]
  },
  {
   "cell_type": "markdown",
   "metadata": {
    "id": "Qj6W9d7NUu1u"
   },
   "source": [
    "Instead of it we will write it in one line"
   ]
  },
  {
   "cell_type": "code",
   "execution_count": null,
   "metadata": {
    "colab": {
     "base_uri": "https://localhost:8080/"
    },
    "executionInfo": {
     "elapsed": 18,
     "status": "ok",
     "timestamp": 1632938614895,
     "user": {
      "displayName": "Şahbacı Ibrahimova",
      "photoUrl": "https://lh3.googleusercontent.com/a/default-user=s64",
      "userId": "05798501949350967913"
     },
     "user_tz": -240
    },
    "id": "Le5lp4oMUu59",
    "outputId": "66a21d2b-f9a6-409b-c90b-522a32f8fd7f"
   },
   "outputs": [
    {
     "name": "stdout",
     "output_type": "stream",
     "text": [
      "5\n"
     ]
    }
   ],
   "source": [
    "find_max=lambda a,b,c:a if a>b and a>c else (b if b>a and b>c else c)\n",
    "print(find_max(3,4,5))"
   ]
  },
  {
   "cell_type": "markdown",
   "metadata": {
    "id": "aHlZRnI3W3GT"
   },
   "source": [
    "What if we need to work with lists or tuples? ......"
   ]
  },
  {
   "cell_type": "markdown",
   "metadata": {
    "id": "8qSQ84mbtpX9"
   },
   "source": [
    "![title](pictures/cat_thinks.jpg)"
   ]
  },
  {
   "cell_type": "markdown",
   "metadata": {
    "id": "R6mkoMNRW8tS",
    "jp-MarkdownHeadingCollapsed": true
   },
   "source": [
    "## MAP:\n",
    "\n",
    "Syntax: **map(function, iterable)**\n",
    "\n",
    "function : It is a function to which map passes each element of given iterable.\n",
    "\n",
    "iterable : It is a iterable which is to be mapped."
   ]
  },
  {
   "cell_type": "markdown",
   "metadata": {
    "id": "S70jcjxxXNpw"
   },
   "source": [
    "You can pass one or more iterable to the map() function.\n",
    "\n",
    "The returned value from map() (map object) then can be passed to functions like list() (to create a list), set() (to create a set) or tuple() (to create a tuple)."
   ]
  },
  {
   "cell_type": "code",
   "execution_count": 13,
   "metadata": {
    "colab": {
     "base_uri": "https://localhost:8080/"
    },
    "executionInfo": {
     "elapsed": 309,
     "status": "ok",
     "timestamp": 1633010653406,
     "user": {
      "displayName": "Şahbacı Ibrahimova",
      "photoUrl": "https://lh3.googleusercontent.com/a/default-user=s64",
      "userId": "05798501949350967913"
     },
     "user_tz": -240
    },
    "id": "PcBpkrM5W8Df",
    "outputId": "2e073172-8ea3-4ecd-d838-ec72adcc10f8"
   },
   "outputs": [
    {
     "name": "stdout",
     "output_type": "stream",
     "text": [
      "[1, 4, 9, 16, 25]\n"
     ]
    }
   ],
   "source": [
    "nums = [1, 2, 3, 4, 5] \n",
    "for i in range(len(nums)):\n",
    "    # i =1,2,3,4,5\n",
    "    nums[i]=nums[i]**2\n",
    "print(nums)"
   ]
  },
  {
   "cell_type": "markdown",
   "metadata": {
    "id": "P3RdOo05Xu-J"
   },
   "source": [
    "Instead of it we can use map. We need a function and an iterable. We have a iterable, so we need to create a function which calculate power of 2"
   ]
  },
  {
   "cell_type": "code",
   "execution_count": 14,
   "metadata": {
    "executionInfo": {
     "elapsed": 30,
     "status": "ok",
     "timestamp": 1633010653746,
     "user": {
      "displayName": "Şahbacı Ibrahimova",
      "photoUrl": "https://lh3.googleusercontent.com/a/default-user=s64",
      "userId": "05798501949350967913"
     },
     "user_tz": -240
    },
    "id": "1tzQignXXtL_"
   },
   "outputs": [],
   "source": [
    "def power(n):    \n",
    "    return n**2"
   ]
  },
  {
   "cell_type": "code",
   "execution_count": 15,
   "metadata": {
    "colab": {
     "base_uri": "https://localhost:8080/"
    },
    "executionInfo": {
     "elapsed": 29,
     "status": "ok",
     "timestamp": 1633010653747,
     "user": {
      "displayName": "Şahbacı Ibrahimova",
      "photoUrl": "https://lh3.googleusercontent.com/a/default-user=s64",
      "userId": "05798501949350967913"
     },
     "user_tz": -240
    },
    "id": "04XWV26fXgxJ",
    "outputId": "a1bb2b53-d16b-4cad-fefa-84e3adc240ed"
   },
   "outputs": [
    {
     "name": "stdout",
     "output_type": "stream",
     "text": [
      "25\n",
      "4\n"
     ]
    }
   ],
   "source": [
    "print(power(5))\n",
    "print(power(2))"
   ]
  },
  {
   "cell_type": "markdown",
   "metadata": {
    "id": "aHDcbtTsYJbn"
   },
   "source": [
    "Now we can use map"
   ]
  },
  {
   "cell_type": "code",
   "execution_count": 16,
   "metadata": {
    "colab": {
     "base_uri": "https://localhost:8080/"
    },
    "executionInfo": {
     "elapsed": 27,
     "status": "ok",
     "timestamp": 1633010653748,
     "user": {
      "displayName": "Şahbacı Ibrahimova",
      "photoUrl": "https://lh3.googleusercontent.com/a/default-user=s64",
      "userId": "05798501949350967913"
     },
     "user_tz": -240
    },
    "id": "BEuKsG-aYGPA",
    "outputId": "6a36d61e-ba74-4b87-973a-a5cd0c4fcdfd"
   },
   "outputs": [
    {
     "name": "stdout",
     "output_type": "stream",
     "text": [
      "<map object at 0x7fd070e8c8d0>\n"
     ]
    }
   ],
   "source": [
    "print(map(power,nums))\n"
   ]
  },
  {
   "cell_type": "markdown",
   "metadata": {
    "id": "O3MOX4OIYQ-p"
   },
   "source": [
    "But it returns the object and its address, so we need to convert it to list, tuble or set."
   ]
  },
  {
   "cell_type": "code",
   "execution_count": 17,
   "metadata": {
    "colab": {
     "base_uri": "https://localhost:8080/"
    },
    "executionInfo": {
     "elapsed": 24,
     "status": "ok",
     "timestamp": 1633010653748,
     "user": {
      "displayName": "Şahbacı Ibrahimova",
      "photoUrl": "https://lh3.googleusercontent.com/a/default-user=s64",
      "userId": "05798501949350967913"
     },
     "user_tz": -240
    },
    "id": "FCeU4N0_YQEN",
    "outputId": "85b53a00-2159-49ea-baeb-9458b2da0987"
   },
   "outputs": [
    {
     "name": "stdout",
     "output_type": "stream",
     "text": [
      "[1, 4, 9, 16, 25]\n"
     ]
    }
   ],
   "source": [
    "nums = [1, 2, 3, 4, 5] \n",
    "\n",
    "print(list(map(power,nums)))\n"
   ]
  },
  {
   "cell_type": "markdown",
   "metadata": {
    "id": "d4KknEdVYz1W"
   },
   "source": [
    "If we need a function to use a map, can we use lambda instead of a function ???"
   ]
  },
  {
   "cell_type": "markdown",
   "metadata": {
    "id": "RG72SoEntpYD"
   },
   "source": [
    "![title](pictures/cat.png)"
   ]
  },
  {
   "cell_type": "markdown",
   "metadata": {
    "id": "NveLzarDY7Lw"
   },
   "source": [
    "The answer is Yes\n"
   ]
  },
  {
   "cell_type": "code",
   "execution_count": 18,
   "metadata": {
    "executionInfo": {
     "elapsed": 23,
     "status": "ok",
     "timestamp": 1633010653749,
     "user": {
      "displayName": "Şahbacı Ibrahimova",
      "photoUrl": "https://lh3.googleusercontent.com/a/default-user=s64",
      "userId": "05798501949350967913"
     },
     "user_tz": -240
    },
    "id": "EpYKrzmCY6Zr"
   },
   "outputs": [],
   "source": [
    "power_2=lambda a: a**2"
   ]
  },
  {
   "cell_type": "code",
   "execution_count": 19,
   "metadata": {
    "colab": {
     "base_uri": "https://localhost:8080/"
    },
    "executionInfo": {
     "elapsed": 22,
     "status": "ok",
     "timestamp": 1633010653749,
     "user": {
      "displayName": "Şahbacı Ibrahimova",
      "photoUrl": "https://lh3.googleusercontent.com/a/default-user=s64",
      "userId": "05798501949350967913"
     },
     "user_tz": -240
    },
    "id": "Uizu1mSOYZT8",
    "outputId": "58b85a93-44ed-419c-c5a8-8fcde75cef4d"
   },
   "outputs": [
    {
     "name": "stdout",
     "output_type": "stream",
     "text": [
      "4\n",
      "25\n"
     ]
    }
   ],
   "source": [
    "print(power_2(2))\n",
    "print(power_2(5))"
   ]
  },
  {
   "cell_type": "markdown",
   "metadata": {
    "id": "X3j_xfr7ZYgy"
   },
   "source": [
    "We can use lambda instead of the function, now lets connect map and lambda together\n"
   ]
  },
  {
   "cell_type": "code",
   "execution_count": 20,
   "metadata": {
    "colab": {
     "base_uri": "https://localhost:8080/"
    },
    "executionInfo": {
     "elapsed": 21,
     "status": "ok",
     "timestamp": 1633010653751,
     "user": {
      "displayName": "Şahbacı Ibrahimova",
      "photoUrl": "https://lh3.googleusercontent.com/a/default-user=s64",
      "userId": "05798501949350967913"
     },
     "user_tz": -240
    },
    "id": "s8Q9SD7AZXnC",
    "outputId": "eee0d2ac-91c6-49c9-c462-77277070768c"
   },
   "outputs": [
    {
     "name": "stdout",
     "output_type": "stream",
     "text": [
      "[1, 4, 9, 16, 25]\n"
     ]
    }
   ],
   "source": [
    "nums = [1, 2, 3, 4, 5] \n",
    "\n",
    "print(list(map(power_2,nums)))\n"
   ]
  },
  {
   "cell_type": "markdown",
   "metadata": {
    "id": "KKlFs2mjZiJK"
   },
   "source": [
    "Tadaaaaam, it is working :D"
   ]
  },
  {
   "cell_type": "markdown",
   "metadata": {
    "id": "XmejsRkFZxZb"
   },
   "source": [
    "lets have a look at another example:"
   ]
  },
  {
   "cell_type": "code",
   "execution_count": 21,
   "metadata": {
    "executionInfo": {
     "elapsed": 20,
     "status": "ok",
     "timestamp": 1633010653752,
     "user": {
      "displayName": "Şahbacı Ibrahimova",
      "photoUrl": "https://lh3.googleusercontent.com/a/default-user=s64",
      "userId": "05798501949350967913"
     },
     "user_tz": -240
    },
    "id": "2q5mPjs0ZwsM"
   },
   "outputs": [],
   "source": [
    "# Convert all elements of list in uppercase"
   ]
  },
  {
   "cell_type": "code",
   "execution_count": 22,
   "metadata": {
    "executionInfo": {
     "elapsed": 19,
     "status": "ok",
     "timestamp": 1633010653753,
     "user": {
      "displayName": "Şahbacı Ibrahimova",
      "photoUrl": "https://lh3.googleusercontent.com/a/default-user=s64",
      "userId": "05798501949350967913"
     },
     "user_tz": -240
    },
    "id": "Rj9O94WYZQfw"
   },
   "outputs": [],
   "source": [
    "people = [\"Aysu\", \"Rustem\", \"Aytan\", \"Cavad\"]\n",
    "\n",
    "\n",
    "up = list(map(lambda x: x.upper(), people))"
   ]
  },
  {
   "cell_type": "code",
   "execution_count": 23,
   "metadata": {
    "colab": {
     "base_uri": "https://localhost:8080/"
    },
    "executionInfo": {
     "elapsed": 17,
     "status": "ok",
     "timestamp": 1633010653753,
     "user": {
      "displayName": "Şahbacı Ibrahimova",
      "photoUrl": "https://lh3.googleusercontent.com/a/default-user=s64",
      "userId": "05798501949350967913"
     },
     "user_tz": -240
    },
    "id": "-npurcpWaIpZ",
    "outputId": "171226b7-76c7-4d2a-acc1-18d2a3f4a5c5"
   },
   "outputs": [
    {
     "name": "stdout",
     "output_type": "stream",
     "text": [
      "['AYSU', 'RUSTEM', 'AYTAN', 'CAVAD']\n"
     ]
    }
   ],
   "source": [
    "print(up)"
   ]
  },
  {
   "cell_type": "markdown",
   "metadata": {
    "id": "KrMJxV65cEHp"
   },
   "source": [
    "Let's say we want to get all the names that begin with \"A\". Lets write it and check the result"
   ]
  },
  {
   "cell_type": "code",
   "execution_count": 24,
   "metadata": {
    "executionInfo": {
     "elapsed": 17,
     "status": "ok",
     "timestamp": 1633010653754,
     "user": {
      "displayName": "Şahbacı Ibrahimova",
      "photoUrl": "https://lh3.googleusercontent.com/a/default-user=s64",
      "userId": "05798501949350967913"
     },
     "user_tz": -240
    },
    "id": "z_ml37X2cQUG"
   },
   "outputs": [],
   "source": [
    "name_a = lambda x:x if x[0]==\"A\" else None"
   ]
  },
  {
   "cell_type": "code",
   "execution_count": 25,
   "metadata": {
    "executionInfo": {
     "elapsed": 16,
     "status": "ok",
     "timestamp": 1633010653754,
     "user": {
      "displayName": "Şahbacı Ibrahimova",
      "photoUrl": "https://lh3.googleusercontent.com/a/default-user=s64",
      "userId": "05798501949350967913"
     },
     "user_tz": -240
    },
    "id": "qHFUNg9pcnHE"
   },
   "outputs": [],
   "source": [
    "new_name_list = list(map(name_a, people))"
   ]
  },
  {
   "cell_type": "code",
   "execution_count": 26,
   "metadata": {
    "colab": {
     "base_uri": "https://localhost:8080/"
    },
    "executionInfo": {
     "elapsed": 16,
     "status": "ok",
     "timestamp": 1633010653755,
     "user": {
      "displayName": "Şahbacı Ibrahimova",
      "photoUrl": "https://lh3.googleusercontent.com/a/default-user=s64",
      "userId": "05798501949350967913"
     },
     "user_tz": -240
    },
    "id": "CFoyRdfwctCm",
    "outputId": "e999294f-0a2f-4497-b86e-236610a21bff"
   },
   "outputs": [
    {
     "name": "stdout",
     "output_type": "stream",
     "text": [
      "['Aysu', None, 'Aytan', None]\n"
     ]
    }
   ],
   "source": [
    "print(new_name_list)"
   ]
  },
  {
   "cell_type": "markdown",
   "metadata": {
    "id": "T6GkTS2mczL7"
   },
   "source": [
    "Even though we only wanted to get names that start with capital \"A\", we need to write the else part. How to get only the names but not None"
   ]
  },
  {
   "cell_type": "markdown",
   "metadata": {
    "id": "N0dOI06wtpYL"
   },
   "source": [
    "![title](pictures/thinking-cat.jpg)"
   ]
  },
  {
   "cell_type": "markdown",
   "metadata": {
    "id": "6ReYtdrwbSEw",
    "jp-MarkdownHeadingCollapsed": true
   },
   "source": [
    "# Filter:\n",
    "\n",
    "Syntax: **filter(function, iterable)**\n",
    "\n",
    "function: function that tests if each element of a sequence true or not.\n",
    "\n",
    "iterable: Iterable which needs to be filtered.\n"
   ]
  },
  {
   "cell_type": "code",
   "execution_count": 12,
   "metadata": {
    "colab": {
     "base_uri": "https://localhost:8080/"
    },
    "executionInfo": {
     "elapsed": 286,
     "status": "ok",
     "timestamp": 1633010400254,
     "user": {
      "displayName": "Şahbacı Ibrahimova",
      "photoUrl": "https://lh3.googleusercontent.com/a/default-user=s64",
      "userId": "05798501949350967913"
     },
     "user_tz": -240
    },
    "id": "vS8_KkR8b63e",
    "outputId": "fc21c307-19f8-4cd8-e9ce-a1593c9d96c9"
   },
   "outputs": [
    {
     "name": "stdout",
     "output_type": "stream",
     "text": [
      "Odd numbers: [1, 3, 5]\n",
      "Even numbers: <filter object at 0x7fd06e430190>\n"
     ]
    }
   ],
   "source": [
    "#Filter out even and odd numbers from list\n",
    "seq = [0, 1, 2, 3, 4, 5]\n",
    "\n",
    "# result contains odd numbers of the list\n",
    "result = filter(lambda x: x % 2 == 1, seq)\n",
    "print(\"Odd numbers:\",list(result))\n",
    "\n",
    "# result contains even numbers of the list\n",
    "result = filter(lambda x: x % 2 == 0, seq)\n",
    "print(\"Even numbers:\",result)"
   ]
  },
  {
   "cell_type": "markdown",
   "metadata": {
    "id": "cWbVt0MFda5V"
   },
   "source": [
    "As you can see, it return the **elements of the array** which are **True**"
   ]
  },
  {
   "cell_type": "markdown",
   "metadata": {
    "id": "d0TrJZ91dkBI"
   },
   "source": [
    "Can we solve our previous problem, where we need to find the names that begin with capital ?"
   ]
  },
  {
   "cell_type": "code",
   "execution_count": 2,
   "metadata": {
    "executionInfo": {
     "elapsed": 13,
     "status": "ok",
     "timestamp": 1633010332398,
     "user": {
      "displayName": "Şahbacı Ibrahimova",
      "photoUrl": "https://lh3.googleusercontent.com/a/default-user=s64",
      "userId": "05798501949350967913"
     },
     "user_tz": -240
    },
    "id": "Cs6vdh7VbWEf"
   },
   "outputs": [],
   "source": [
    "people = [\"Aysu\", \"Rustem\", \"Aytan\", \"Cavad\"]\n",
    "\n",
    "name_a = lambda x: x[0]==\"A\"\n",
    "\n",
    "new_name_list = list(filter(name_a, people))"
   ]
  },
  {
   "cell_type": "code",
   "execution_count": 3,
   "metadata": {
    "colab": {
     "base_uri": "https://localhost:8080/"
    },
    "executionInfo": {
     "elapsed": 831,
     "status": "ok",
     "timestamp": 1633010333218,
     "user": {
      "displayName": "Şahbacı Ibrahimova",
      "photoUrl": "https://lh3.googleusercontent.com/a/default-user=s64",
      "userId": "05798501949350967913"
     },
     "user_tz": -240
    },
    "id": "-S8yJj3Ddylt",
    "outputId": "4f9c741f-f6ae-4480-fd39-c610c2174119"
   },
   "outputs": [
    {
     "name": "stdout",
     "output_type": "stream",
     "text": [
      "['Aysu', 'Aytan']\n"
     ]
    }
   ],
   "source": [
    "print(new_name_list)"
   ]
  },
  {
   "cell_type": "markdown",
   "metadata": {
    "id": "PWXjJIsxtpYO"
   },
   "source": [
    "![title](pictures/cat_smile.jpg)"
   ]
  },
  {
   "cell_type": "markdown",
   "metadata": {
    "id": "I1fLhlDBd7Dd"
   },
   "source": [
    "Voila, now it works. Lets see some other examples in order to get the idea"
   ]
  },
  {
   "cell_type": "code",
   "execution_count": 4,
   "metadata": {
    "executionInfo": {
     "elapsed": 50,
     "status": "ok",
     "timestamp": 1633010333219,
     "user": {
      "displayName": "Şahbacı Ibrahimova",
      "photoUrl": "https://lh3.googleusercontent.com/a/default-user=s64",
      "userId": "05798501949350967913"
     },
     "user_tz": -240
    },
    "id": "oTRyMseLd6Qt"
   },
   "outputs": [],
   "source": [
    "# A dictionary Users(twitter database) is given in which we have username and tweets.\n",
    "users = [\n",
    "    {\"username\": 'aysel', \"tweets\": [\"i love cake\", \"i am good\"]},\n",
    "    {\"username\": 'rustem', \"tweets\": []},\n",
    "    {\"username\": 'cavad', \"tweets\": [\"India\", \"Python\"]},\n",
    "    {\"username\": 'kenan', \"tweets\": []},\n",
    "    {\"username\": 'asad', \"tweets\": [\"i am good\"]},\n",
    "]"
   ]
  },
  {
   "cell_type": "code",
   "execution_count": 5,
   "metadata": {
    "colab": {
     "base_uri": "https://localhost:8080/"
    },
    "executionInfo": {
     "elapsed": 49,
     "status": "ok",
     "timestamp": 1633010333220,
     "user": {
      "displayName": "Şahbacı Ibrahimova",
      "photoUrl": "https://lh3.googleusercontent.com/a/default-user=s64",
      "userId": "05798501949350967913"
     },
     "user_tz": -240
    },
    "id": "_DQrZGOEeKck",
    "outputId": "07256079-8a30-4848-9c3d-a288082268ba"
   },
   "outputs": [
    {
     "data": {
      "text/plain": [
       "[{'tweets': ['i love cake', 'i am good'], 'username': 'aysel'},\n",
       " {'tweets': [], 'username': 'rustem'},\n",
       " {'tweets': ['India', 'Python'], 'username': 'cavad'},\n",
       " {'tweets': [], 'username': 'kenan'},\n",
       " {'tweets': ['i am good'], 'username': 'asad'}]"
      ]
     },
     "execution_count": 5,
     "metadata": {},
     "output_type": "execute_result"
    }
   ],
   "source": [
    "users"
   ]
  },
  {
   "cell_type": "code",
   "execution_count": 6,
   "metadata": {
    "colab": {
     "base_uri": "https://localhost:8080/"
    },
    "executionInfo": {
     "elapsed": 42,
     "status": "ok",
     "timestamp": 1633010333221,
     "user": {
      "displayName": "Şahbacı Ibrahimova",
      "photoUrl": "https://lh3.googleusercontent.com/a/default-user=s64",
      "userId": "05798501949350967913"
     },
     "user_tz": -240
    },
    "id": "TOIm1-uTeR_4",
    "outputId": "ee42b296-4b64-40b2-833f-c0fcef734e75"
   },
   "outputs": [
    {
     "name": "stdout",
     "output_type": "stream",
     "text": [
      "[{'username': 'rustem', 'tweets': []}, {'username': 'kenan', 'tweets': []}]\n"
     ]
    }
   ],
   "source": [
    "print(list(filter(lambda x: not x['tweets'], users)))"
   ]
  },
  {
   "cell_type": "code",
   "execution_count": 7,
   "metadata": {
    "colab": {
     "base_uri": "https://localhost:8080/"
    },
    "executionInfo": {
     "elapsed": 35,
     "status": "ok",
     "timestamp": 1633010333222,
     "user": {
      "displayName": "Şahbacı Ibrahimova",
      "photoUrl": "https://lh3.googleusercontent.com/a/default-user=s64",
      "userId": "05798501949350967913"
     },
     "user_tz": -240
    },
    "id": "EOzxHS8meuz5",
    "outputId": "dc5ba521-b3b3-4bdb-b4dc-d6965759f7da"
   },
   "outputs": [
    {
     "name": "stdout",
     "output_type": "stream",
     "text": [
      "DICTIONARY OF USERS THAT HAVE NO TWEETS ARE \n",
      " [{'username': 'rustem', 'tweets': []}, {'username': 'kenan', 'tweets': []}]\n"
     ]
    }
   ],
   "source": [
    "inactive_users = list(filter(lambda x: not x['tweets'], users))\n",
    "print(\"DICTIONARY OF USERS THAT HAVE NO TWEETS ARE \\n\",inactive_users)"
   ]
  },
  {
   "cell_type": "code",
   "execution_count": 8,
   "metadata": {
    "colab": {
     "base_uri": "https://localhost:8080/"
    },
    "executionInfo": {
     "elapsed": 27,
     "status": "ok",
     "timestamp": 1633010333222,
     "user": {
      "displayName": "Şahbacı Ibrahimova",
      "photoUrl": "https://lh3.googleusercontent.com/a/default-user=s64",
      "userId": "05798501949350967913"
     },
     "user_tz": -240
    },
    "id": "2192EBdze4co",
    "outputId": "76939414-ad7a-452e-9aac-fab8ec348c3f"
   },
   "outputs": [
    {
     "name": "stdout",
     "output_type": "stream",
     "text": [
      "USERS THAT HAVE NO TWEETS ARE \n",
      " rustem\n",
      "USERS THAT HAVE NO TWEETS ARE \n",
      " kenan\n"
     ]
    }
   ],
   "source": [
    "print(\"USERS THAT HAVE NO TWEETS ARE \\n\",inactive_users[0][\"username\"])\n",
    "print(\"USERS THAT HAVE NO TWEETS ARE \\n\",inactive_users[1][\"username\"])"
   ]
  },
  {
   "cell_type": "code",
   "execution_count": 9,
   "metadata": {
    "colab": {
     "base_uri": "https://localhost:8080/"
    },
    "executionInfo": {
     "elapsed": 23,
     "status": "ok",
     "timestamp": 1633010333223,
     "user": {
      "displayName": "Şahbacı Ibrahimova",
      "photoUrl": "https://lh3.googleusercontent.com/a/default-user=s64",
      "userId": "05798501949350967913"
     },
     "user_tz": -240
    },
    "id": "J2r_7UcMfGz_",
    "outputId": "2364f484-a541-47db-d04d-16ed3f29ce50"
   },
   "outputs": [
    {
     "name": "stdout",
     "output_type": "stream",
     "text": [
      "rustem\n",
      "kenan\n"
     ]
    }
   ],
   "source": [
    "for user_dict in inactive_users:\n",
    "    print(user_dict[\"username\"])"
   ]
  },
  {
   "cell_type": "code",
   "execution_count": 10,
   "metadata": {
    "colab": {
     "base_uri": "https://localhost:8080/"
    },
    "executionInfo": {
     "elapsed": 21,
     "status": "ok",
     "timestamp": 1633010333225,
     "user": {
      "displayName": "Şahbacı Ibrahimova",
      "photoUrl": "https://lh3.googleusercontent.com/a/default-user=s64",
      "userId": "05798501949350967913"
     },
     "user_tz": -240
    },
    "id": "pt5bmXSOfftB",
    "outputId": "306dded5-f5a8-4f3d-ae45-583426728e9c"
   },
   "outputs": [
    {
     "name": "stdout",
     "output_type": "stream",
     "text": [
      "DICTIONARY OF USERS THAT HAVE NO TWEETS ARE \n",
      " [{'username': 'aysel', 'tweets': ['i love cake', 'i am good']}, {'username': 'cavad', 'tweets': ['India', 'Python']}, {'username': 'asad', 'tweets': ['i am good']}]\n"
     ]
    }
   ],
   "source": [
    "active_users = list(filter(lambda x: x['tweets'], users))\n",
    "print(\"DICTIONARY OF USERS THAT HAVE NO TWEETS ARE \\n\",active_users)"
   ]
  },
  {
   "cell_type": "code",
   "execution_count": 11,
   "metadata": {
    "colab": {
     "base_uri": "https://localhost:8080/"
    },
    "executionInfo": {
     "elapsed": 17,
     "status": "ok",
     "timestamp": 1633010333226,
     "user": {
      "displayName": "Şahbacı Ibrahimova",
      "photoUrl": "https://lh3.googleusercontent.com/a/default-user=s64",
      "userId": "05798501949350967913"
     },
     "user_tz": -240
    },
    "id": "dXa8eYaufkFz",
    "outputId": "1e3f1d5d-6684-4e21-84c3-d7d89e4e17f8"
   },
   "outputs": [
    {
     "name": "stdout",
     "output_type": "stream",
     "text": [
      "aysel\n",
      "cavad\n",
      "asad\n"
     ]
    }
   ],
   "source": [
    "for user_dict in active_users:\n",
    "    print(user_dict[\"username\"])"
   ]
  },
  {
   "cell_type": "markdown",
   "metadata": {
    "id": "hANfcPcCgR48",
    "jp-MarkdownHeadingCollapsed": true
   },
   "source": [
    "# Zip:\n",
    "\n",
    "The zip() function returns an iterator of tuples based on the iterable object.\n"
   ]
  },
  {
   "cell_type": "markdown",
   "metadata": {
    "id": "NONIl-SvhK7x"
   },
   "source": [
    "If no parameters are passed, zip() returns an empty iterator\n",
    "\n",
    "If a single iterable is passed, zip() returns an iterator of 1-tuples. Meaning, the number of elements in each tuple is 1.\n",
    "\n",
    "If multiple iterables are passed, ith tuple contains ith Suppose, two iterables are passed; one iterable containing 3 and other containing 5 elements. Then, the returned iterator has 3 tuples. It’s because iterator stops when shortest iterable is exhaused."
   ]
  },
  {
   "cell_type": "code",
   "execution_count": null,
   "metadata": {
    "colab": {
     "base_uri": "https://localhost:8080/"
    },
    "executionInfo": {
     "elapsed": 11,
     "status": "ok",
     "timestamp": 1632939146518,
     "user": {
      "displayName": "Şahbacı Ibrahimova",
      "photoUrl": "https://lh3.googleusercontent.com/a/default-user=s64",
      "userId": "05798501949350967913"
     },
     "user_tz": -240
    },
    "id": "KMq4dIjshDiR",
    "outputId": "d3d85bf7-c520-4dac-a1a8-0f01f4727367"
   },
   "outputs": [
    {
     "name": "stdout",
     "output_type": "stream",
     "text": [
      "[('Ali', 4, 40), ('Mustaga', 1, 50), ('Cavad', 3, 60)]\n"
     ]
    }
   ],
   "source": [
    "name = [\"Ali\", \"Mustaga\", \"Cavad\"]\n",
    "student_id = [4, 1, 3]\n",
    "marks = [40, 50, 60]\n",
    "\n",
    "mapped = zip(name, student_id, marks)\n",
    "\n",
    "print(list(mapped))"
   ]
  },
  {
   "cell_type": "markdown",
   "metadata": {
    "id": "XWp0TrH1hsEz"
   },
   "source": [
    "Passing No Arguments\n"
   ]
  },
  {
   "cell_type": "code",
   "execution_count": null,
   "metadata": {
    "colab": {
     "base_uri": "https://localhost:8080/"
    },
    "executionInfo": {
     "elapsed": 25,
     "status": "ok",
     "timestamp": 1632939147001,
     "user": {
      "displayName": "Şahbacı Ibrahimova",
      "photoUrl": "https://lh3.googleusercontent.com/a/default-user=s64",
      "userId": "05798501949350967913"
     },
     "user_tz": -240
    },
    "id": "CR1GLur_ho_s",
    "outputId": "2af1c0ab-950d-46a3-a656-dacb49e77dac"
   },
   "outputs": [
    {
     "name": "stdout",
     "output_type": "stream",
     "text": [
      "[]\n"
     ]
    }
   ],
   "source": [
    "name = []\n",
    "mapped = zip(name)\n",
    "print(list(mapped))"
   ]
  },
  {
   "cell_type": "markdown",
   "metadata": {
    "id": "X7D5MnAZh2eY"
   },
   "source": [
    "Passing One Argument"
   ]
  },
  {
   "cell_type": "code",
   "execution_count": null,
   "metadata": {
    "colab": {
     "base_uri": "https://localhost:8080/"
    },
    "executionInfo": {
     "elapsed": 22,
     "status": "ok",
     "timestamp": 1632939147002,
     "user": {
      "displayName": "Şahbacı Ibrahimova",
      "photoUrl": "https://lh3.googleusercontent.com/a/default-user=s64",
      "userId": "05798501949350967913"
     },
     "user_tz": -240
    },
    "id": "fJQifkp7h16q",
    "outputId": "44d6b399-4b44-48c7-b551-31709bfdb0ff"
   },
   "outputs": [
    {
     "name": "stdout",
     "output_type": "stream",
     "text": [
      "[('Ali',), ('Mustaga',), ('Cavad',)]\n"
     ]
    }
   ],
   "source": [
    "name = [\"Ali\", \"Mustaga\", \"Cavad\"]\n",
    "mapped = zip(name)\n",
    "print(list(mapped))"
   ]
  },
  {
   "cell_type": "markdown",
   "metadata": {
    "id": "TrIlHhm1h-dU"
   },
   "source": [
    "Passing Arguments of Unequal Length\n"
   ]
  },
  {
   "cell_type": "code",
   "execution_count": null,
   "metadata": {
    "colab": {
     "base_uri": "https://localhost:8080/"
    },
    "executionInfo": {
     "elapsed": 18,
     "status": "ok",
     "timestamp": 1632939147003,
     "user": {
      "displayName": "Şahbacı Ibrahimova",
      "photoUrl": "https://lh3.googleusercontent.com/a/default-user=s64",
      "userId": "05798501949350967913"
     },
     "user_tz": -240
    },
    "id": "z1I-Uy0sh08o",
    "outputId": "46c0ae4b-eb3c-48e7-bece-3bbf175d73fa"
   },
   "outputs": [
    {
     "name": "stdout",
     "output_type": "stream",
     "text": [
      "[('Ali', 40), ('Mustaga', 50)]\n"
     ]
    }
   ],
   "source": [
    "name = [\"Ali\", \"Mustaga\", \"Cavad\"]\n",
    "marks = [40, 50]\n",
    "\n",
    "mapped = zip(name,marks)\n",
    "print(list(mapped))"
   ]
  },
  {
   "cell_type": "markdown",
   "metadata": {
    "id": "P2b2Q7O7iD22"
   },
   "source": [
    "As you can see, we have no \"Cavad\" as the number of elements that zip() puts out will be equal to the length of the shortest iterable"
   ]
  },
  {
   "cell_type": "code",
   "execution_count": null,
   "metadata": {
    "colab": {
     "base_uri": "https://localhost:8080/"
    },
    "executionInfo": {
     "elapsed": 16,
     "status": "ok",
     "timestamp": 1632939147004,
     "user": {
      "displayName": "Şahbacı Ibrahimova",
      "photoUrl": "https://lh3.googleusercontent.com/a/default-user=s64",
      "userId": "05798501949350967913"
     },
     "user_tz": -240
    },
    "id": "btO8GM_yiCzu",
    "outputId": "c7b48769-d3e5-48ca-b514-8480c8317bf2"
   },
   "outputs": [
    {
     "data": {
      "text/plain": [
       "[(2, 4), (4, 16), (6, 36), (7, 49), (8, 64), (9, 81), (2, 4), (3, 9), (4, 16)]"
      ]
     },
     "execution_count": 66,
     "metadata": {},
     "output_type": "execute_result"
    }
   ],
   "source": [
    "even_numbers = [2,4,6,7,8,9,2,3,4]\n",
    "even_numbers_squared = [4,16,36,49,64,81,4,9,16]\n",
    "zipped_result = zip(even_numbers, even_numbers_squared)\n",
    "\n",
    "list(zipped_result)"
   ]
  },
  {
   "cell_type": "code",
   "execution_count": null,
   "metadata": {
    "id": "lWL--hsgibhU"
   },
   "outputs": [],
   "source": []
  }
 ],
 "metadata": {
  "colab": {
   "name": "week1_day2.ipynb",
   "provenance": []
  },
  "kernelspec": {
   "display_name": "Python 3 (ipykernel)",
   "language": "python",
   "name": "python3"
  },
  "language_info": {
   "codemirror_mode": {
    "name": "ipython",
    "version": 3
   },
   "file_extension": ".py",
   "mimetype": "text/x-python",
   "name": "python",
   "nbconvert_exporter": "python",
   "pygments_lexer": "ipython3",
   "version": "3.12.3"
  }
 },
 "nbformat": 4,
 "nbformat_minor": 4
}

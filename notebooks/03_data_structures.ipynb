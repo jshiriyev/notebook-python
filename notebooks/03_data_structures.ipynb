{
 "cells": [
  {
   "cell_type": "markdown",
   "metadata": {
    "id": "ccgfecJVTaMD"
   },
   "source": [
    "# Data Structures"
   ]
  },
  {
   "cell_type": "code",
   "execution_count": null,
   "metadata": {
    "id": "4RRoswovTaMD",
    "scrolled": true
   },
   "outputs": [],
   "source": [
    "l = [1, 2, \"a\"] #list\n",
    "l"
   ]
  },
  {
   "cell_type": "code",
   "execution_count": null,
   "metadata": {
    "id": "tMG38WK5TaMD"
   },
   "outputs": [],
   "source": [
    "t = (1, 2, \"a\") #tuple\n",
    "t"
   ]
  },
  {
   "cell_type": "code",
   "execution_count": null,
   "metadata": {
    "id": "4td4jce_TaME",
    "scrolled": true
   },
   "outputs": [],
   "source": [
    "d = {\"season\":\"summer\", \"b\":2} #dictionary\n",
    "d"
   ]
  },
  {
   "cell_type": "markdown",
   "metadata": {
    "id": "4RiXZFcsTaME",
    "jp-MarkdownHeadingCollapsed": true
   },
   "source": [
    "## List"
   ]
  },
  {
   "cell_type": "code",
   "execution_count": null,
   "metadata": {
    "id": "3h1vXEzXTaME"
   },
   "outputs": [],
   "source": [
    "list1 = [1,2,3,4,5,6,7,8,9,10]"
   ]
  },
  {
   "cell_type": "code",
   "execution_count": null,
   "metadata": {
    "id": "2emw2YikTaME"
   },
   "outputs": [],
   "source": [
    "list1[1]"
   ]
  },
  {
   "cell_type": "code",
   "execution_count": null,
   "metadata": {
    "id": "NbVN2t2gTaMF"
   },
   "outputs": [],
   "source": [
    "list1[-1]"
   ]
  },
  {
   "cell_type": "code",
   "execution_count": null,
   "metadata": {
    "id": "Wq-836oNTaMG"
   },
   "outputs": [],
   "source": [
    "list1[1:10:2]"
   ]
  },
  {
   "cell_type": "code",
   "execution_count": null,
   "metadata": {
    "id": "fxOpX6ADTaMG"
   },
   "outputs": [],
   "source": [
    "list1[-5:10]"
   ]
  },
  {
   "cell_type": "code",
   "execution_count": null,
   "metadata": {
    "id": "An16nKjRTaMH"
   },
   "outputs": [],
   "source": [
    "list1[::]"
   ]
  },
  {
   "cell_type": "code",
   "execution_count": null,
   "metadata": {
    "id": "lV2qzuAITaMH"
   },
   "outputs": [],
   "source": [
    "list1[::-1]"
   ]
  },
  {
   "cell_type": "code",
   "execution_count": null,
   "metadata": {
    "id": "anUPwn79TaMI"
   },
   "outputs": [],
   "source": [
    "len(list1)"
   ]
  },
  {
   "cell_type": "code",
   "execution_count": null,
   "metadata": {
    "id": "Q9uW0TggTaMI"
   },
   "outputs": [],
   "source": [
    "list1.append(1)"
   ]
  },
  {
   "cell_type": "code",
   "execution_count": null,
   "metadata": {
    "id": "6mn7DyC8TaMJ"
   },
   "outputs": [],
   "source": [
    "list1"
   ]
  },
  {
   "cell_type": "code",
   "execution_count": null,
   "metadata": {
    "id": "YrCZgTcbTaMJ"
   },
   "outputs": [],
   "source": [
    "list1.insert(0,-1)"
   ]
  },
  {
   "cell_type": "code",
   "execution_count": null,
   "metadata": {
    "id": "QcurjHEwTaMJ",
    "scrolled": true
   },
   "outputs": [],
   "source": [
    "list1"
   ]
  },
  {
   "cell_type": "code",
   "execution_count": null,
   "metadata": {
    "id": "vuScQRyTTaMK"
   },
   "outputs": [],
   "source": [
    "list1.remove(1)"
   ]
  },
  {
   "cell_type": "code",
   "execution_count": null,
   "metadata": {
    "id": "NaoULi5nTaMK"
   },
   "outputs": [],
   "source": [
    "list1"
   ]
  },
  {
   "cell_type": "code",
   "execution_count": null,
   "metadata": {
    "id": "d01AysWfTaML"
   },
   "outputs": [],
   "source": [
    "del list1[5]"
   ]
  },
  {
   "cell_type": "code",
   "execution_count": null,
   "metadata": {
    "id": "PMXt3fDETaML"
   },
   "outputs": [],
   "source": [
    "list1"
   ]
  },
  {
   "cell_type": "code",
   "execution_count": null,
   "metadata": {
    "id": "qWV5pqYuz7iF"
   },
   "outputs": [],
   "source": [
    "list1.pop(3) \n"
   ]
  },
  {
   "cell_type": "code",
   "execution_count": null,
   "metadata": {
    "id": "hggXAURs0A0Q"
   },
   "outputs": [],
   "source": [
    "print(list1)"
   ]
  },
  {
   "cell_type": "code",
   "execution_count": null,
   "metadata": {
    "id": "sNhKQojFTaMM"
   },
   "outputs": [],
   "source": [
    "list2 = [10,20,30,40,50]"
   ]
  },
  {
   "cell_type": "code",
   "execution_count": null,
   "metadata": {
    "id": "VWMj1S-8TaMM"
   },
   "outputs": [],
   "source": [
    "list1 = list1 + list2"
   ]
  },
  {
   "cell_type": "code",
   "execution_count": null,
   "metadata": {
    "id": "EZ7-cNdx0Jpp"
   },
   "outputs": [],
   "source": [
    "list1"
   ]
  },
  {
   "cell_type": "code",
   "execution_count": null,
   "metadata": {
    "id": "dBDvJeY8TaMM",
    "scrolled": true
   },
   "outputs": [],
   "source": [
    "list2"
   ]
  },
  {
   "cell_type": "code",
   "execution_count": null,
   "metadata": {
    "id": "LOV1f7toTaMN"
   },
   "outputs": [],
   "source": [
    "list2 = []"
   ]
  },
  {
   "cell_type": "code",
   "execution_count": null,
   "metadata": {
    "id": "gFsI_VjdTaMN"
   },
   "outputs": [],
   "source": [
    "list2.extend(list1)"
   ]
  },
  {
   "cell_type": "code",
   "execution_count": null,
   "metadata": {
    "id": "s63d6_vzTaMN"
   },
   "outputs": [],
   "source": [
    "list2"
   ]
  },
  {
   "cell_type": "code",
   "execution_count": null,
   "metadata": {
    "id": "4-5OaL9C0Uzz"
   },
   "outputs": [],
   "source": [
    "list2.reverse()"
   ]
  },
  {
   "cell_type": "code",
   "execution_count": null,
   "metadata": {
    "id": "SDrrsxBX0XVF"
   },
   "outputs": [],
   "source": [
    "list2"
   ]
  },
  {
   "cell_type": "code",
   "execution_count": null,
   "metadata": {
    "id": "olUlL5420ZC0"
   },
   "outputs": [],
   "source": [
    "list2.sort()"
   ]
  },
  {
   "cell_type": "code",
   "execution_count": null,
   "metadata": {
    "id": "9R7CNBp_0apu"
   },
   "outputs": [],
   "source": [
    "list2"
   ]
  },
  {
   "cell_type": "code",
   "execution_count": null,
   "metadata": {
    "id": "D9TnNsMK1S1j"
   },
   "outputs": [],
   "source": [
    "#####  list.sort(reverse=True|False, key=myFunc)\n"
   ]
  },
  {
   "cell_type": "code",
   "execution_count": null,
   "metadata": {
    "id": "oDe2sKyP1S4O"
   },
   "outputs": [],
   "source": [
    "list2.sort(reverse=True)\n"
   ]
  },
  {
   "cell_type": "code",
   "execution_count": null,
   "metadata": {
    "id": "VVZB6APR1S6v"
   },
   "outputs": [],
   "source": [
    "list2"
   ]
  },
  {
   "cell_type": "code",
   "execution_count": null,
   "metadata": {
    "id": "kQXfYvWy1S9K"
   },
   "outputs": [],
   "source": [
    "def myFunc(e):\n",
    "  return len(e)"
   ]
  },
  {
   "cell_type": "code",
   "execution_count": null,
   "metadata": {
    "id": "7nTZazRz1TAP"
   },
   "outputs": [],
   "source": [
    "cars = ['Ford', 'Mitsubishi', 'BMW', 'VW']\n",
    "\n",
    "cars.sort(key=myFunc)"
   ]
  },
  {
   "cell_type": "code",
   "execution_count": null,
   "metadata": {
    "id": "Rw0FVp-G1khH"
   },
   "outputs": [],
   "source": [
    "cars"
   ]
  },
  {
   "cell_type": "code",
   "execution_count": null,
   "metadata": {
    "id": "8ZUZkuu11oTo"
   },
   "outputs": [],
   "source": [
    "cars.sort(reverse=True,key=myFunc)"
   ]
  },
  {
   "cell_type": "code",
   "execution_count": null,
   "metadata": {
    "id": "G1UukS4o1oWn"
   },
   "outputs": [],
   "source": [
    "cars"
   ]
  },
  {
   "cell_type": "markdown",
   "metadata": {
    "id": "qic4ac9UTaMO",
    "jp-MarkdownHeadingCollapsed": true
   },
   "source": [
    "## Tuple"
   ]
  },
  {
   "cell_type": "code",
   "execution_count": null,
   "metadata": {
    "id": "jhokjI4lTaMO"
   },
   "outputs": [],
   "source": [
    "t = (1, 2, 3)\n",
    "t"
   ]
  },
  {
   "cell_type": "code",
   "execution_count": null,
   "metadata": {
    "id": "tuKJUE27TaMP"
   },
   "outputs": [],
   "source": [
    "t = (1,2,3,1)\n",
    "t.count(1)"
   ]
  },
  {
   "cell_type": "code",
   "execution_count": null,
   "metadata": {
    "id": "SGqclXYITaMP",
    "scrolled": true
   },
   "outputs": [],
   "source": [
    "t.index(2)"
   ]
  },
  {
   "cell_type": "code",
   "execution_count": null,
   "metadata": {
    "id": "MsKw2pVLTaMQ"
   },
   "outputs": [],
   "source": [
    "films = (\"Shawshank Redemption\", \"Godfather\", \"Dark Knight\")"
   ]
  },
  {
   "cell_type": "code",
   "execution_count": null,
   "metadata": {
    "id": "JqKnwj54TaMQ"
   },
   "outputs": [],
   "source": [
    "films"
   ]
  },
  {
   "cell_type": "code",
   "execution_count": null,
   "metadata": {
    "id": "8GuXBw4vTaMR"
   },
   "outputs": [],
   "source": [
    "films[1]"
   ]
  },
  {
   "cell_type": "code",
   "execution_count": null,
   "metadata": {
    "id": "wFAnkE5LTaMR"
   },
   "outputs": [],
   "source": [
    "films[2] = \"Pulp Fiction\""
   ]
  },
  {
   "cell_type": "code",
   "execution_count": null,
   "metadata": {
    "id": "tnxO6jcDTaMS"
   },
   "outputs": [],
   "source": [
    "films_list = list(films)"
   ]
  },
  {
   "cell_type": "code",
   "execution_count": null,
   "metadata": {
    "id": "34dzm1SdTaMS"
   },
   "outputs": [],
   "source": [
    "films_list"
   ]
  },
  {
   "cell_type": "code",
   "execution_count": null,
   "metadata": {
    "id": "m-v5J4U9TaMS"
   },
   "outputs": [],
   "source": [
    "films_list[2]= \"Fight Club\""
   ]
  },
  {
   "cell_type": "code",
   "execution_count": null,
   "metadata": {
    "id": "fTucVkfyTaMT"
   },
   "outputs": [],
   "source": [
    "films_list"
   ]
  },
  {
   "cell_type": "code",
   "execution_count": null,
   "metadata": {
    "id": "pUH_eiK7TaMT"
   },
   "outputs": [],
   "source": [
    "films = tuple(films_list)"
   ]
  },
  {
   "cell_type": "code",
   "execution_count": null,
   "metadata": {
    "id": "8gbGgRf9TaMT"
   },
   "outputs": [],
   "source": [
    "films"
   ]
  },
  {
   "cell_type": "markdown",
   "metadata": {
    "id": "4kJi_iuATaMT",
    "jp-MarkdownHeadingCollapsed": true
   },
   "source": [
    "## Dictionaries"
   ]
  },
  {
   "cell_type": "code",
   "execution_count": null,
   "metadata": {
    "id": "DVGqB1qDTaMT"
   },
   "outputs": [],
   "source": [
    "dict1 = {\n",
    "    \"name\": \"Malik\",\n",
    "    \"surname\": \"Mammadov\",\n",
    "    \"age\" : 21,\n",
    "}"
   ]
  },
  {
   "cell_type": "code",
   "execution_count": null,
   "metadata": {
    "id": "O_56m84yTaMT"
   },
   "outputs": [],
   "source": [
    "dict1[\"age\"]"
   ]
  },
  {
   "cell_type": "code",
   "execution_count": null,
   "metadata": {
    "id": "pF-4A3snTaMT"
   },
   "outputs": [],
   "source": [
    "dict1[\"gender\"]=\"Male\""
   ]
  },
  {
   "cell_type": "code",
   "execution_count": null,
   "metadata": {
    "id": "AetrOTCQTaMU"
   },
   "outputs": [],
   "source": [
    "dict1"
   ]
  },
  {
   "cell_type": "code",
   "execution_count": null,
   "metadata": {
    "id": "CftG1fplTaMU"
   },
   "outputs": [],
   "source": [
    "dict1.pop(\"age\")"
   ]
  },
  {
   "cell_type": "code",
   "execution_count": null,
   "metadata": {
    "id": "57kUj_MbTaMU"
   },
   "outputs": [],
   "source": [
    "dict1"
   ]
  },
  {
   "cell_type": "code",
   "execution_count": null,
   "metadata": {
    "id": "j5uWMyICTaMU"
   },
   "outputs": [],
   "source": [
    "del dict1[\"name\"]"
   ]
  },
  {
   "cell_type": "code",
   "execution_count": null,
   "metadata": {
    "id": "-0I3wEw_TaMU"
   },
   "outputs": [],
   "source": [
    "dict2 = dict1.copy()"
   ]
  },
  {
   "cell_type": "code",
   "execution_count": null,
   "metadata": {
    "id": "QTLJQ6-ITaMV"
   },
   "outputs": [],
   "source": [
    "dict2"
   ]
  },
  {
   "cell_type": "code",
   "execution_count": null,
   "metadata": {
    "id": "sENF8_oKTaMV"
   },
   "outputs": [],
   "source": [
    "students = {\n",
    "    \"student1\":{\n",
    "        \"name\":\"Malik\",\n",
    "        \"surname\" : \"Mammadov\"\n",
    "    },\n",
    "    \"student2\":{\n",
    "        \"name\": \"Ayan\",\n",
    "        \"surname\": \"Aliyeva\"\n",
    "    },\n",
    "    \"student3\":{\n",
    "        \"name\": \"Zahid\",\n",
    "        \"surname\": \"Karimov\"\n",
    "    }\n",
    "}"
   ]
  },
  {
   "cell_type": "code",
   "execution_count": null,
   "metadata": {
    "id": "9vSxXC--TaMV"
   },
   "outputs": [],
   "source": [
    "student4 = {\n",
    "    \"name\": \"Sona\"\n",
    "}"
   ]
  },
  {
   "cell_type": "code",
   "execution_count": null,
   "metadata": {
    "id": "EEOxuJCkTaMV"
   },
   "outputs": [],
   "source": [
    "students[\"student4\"] = student4"
   ]
  },
  {
   "cell_type": "code",
   "execution_count": null,
   "metadata": {
    "id": "ALRFZ-w2TaMV"
   },
   "outputs": [],
   "source": [
    "students"
   ]
  },
  {
   "cell_type": "code",
   "execution_count": null,
   "metadata": {
    "id": "dq7Umr-0cM_Q"
   },
   "outputs": [],
   "source": [
    "students.keys() # Returns a list containing the dictionary's keys"
   ]
  },
  {
   "cell_type": "code",
   "execution_count": null,
   "metadata": {
    "id": "vudgUDT9cQV-"
   },
   "outputs": [],
   "source": [
    "students.values() # Returns a list of all the values in the dictionary"
   ]
  },
  {
   "cell_type": "code",
   "execution_count": null,
   "metadata": {
    "id": "AnnpFM0lcqqX"
   },
   "outputs": [],
   "source": [
    "students.items() # Returns a list containing a tuple for each key value pair"
   ]
  },
  {
   "cell_type": "code",
   "execution_count": null,
   "metadata": {
    "id": "f51nBa8ychxS"
   },
   "outputs": [],
   "source": [
    "list(students.items())[0]"
   ]
  }
 ],
 "metadata": {
  "colab": {
   "name": "week1_day1.ipynb",
   "provenance": []
  },
  "kernelspec": {
   "display_name": "Python 3 (ipykernel)",
   "language": "python",
   "name": "python3"
  },
  "language_info": {
   "codemirror_mode": {
    "name": "ipython",
    "version": 3
   },
   "file_extension": ".py",
   "mimetype": "text/x-python",
   "name": "python",
   "nbconvert_exporter": "python",
   "pygments_lexer": "ipython3",
   "version": "3.12.3"
  }
 },
 "nbformat": 4,
 "nbformat_minor": 4
}

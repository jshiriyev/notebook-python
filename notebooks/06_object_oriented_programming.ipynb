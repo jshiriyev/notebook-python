{
  "nbformat": 4,
  "nbformat_minor": 0,
  "metadata": {
    "kernelspec": {
      "display_name": "Python 3",
      "language": "python",
      "name": "python3"
    },
    "language_info": {
      "codemirror_mode": {
        "name": "ipython",
        "version": 3
      },
      "file_extension": ".py",
      "mimetype": "text/x-python",
      "name": "python",
      "nbconvert_exporter": "python",
      "pygments_lexer": "ipython3",
      "version": "3.7.1"
    },
    "colab": {
      "name": "week3 day1 oop.ipynb",
      "provenance": []
    }
  },
  "cells": [
    {
      "cell_type": "code",
      "metadata": {
        "id": "y1UrahkU4Nco",
        "colab": {
          "base_uri": "https://localhost:8080/"
        },
        "outputId": "c507426d-e152-49ba-8ab3-fb6ac821eef2"
      },
      "source": [
        "# Objects\n",
        "#  In Python, everything is an object. Remember from previous lectures we can use type() \n",
        "#    to check the type of object something is.\n",
        "\n",
        "print(type(1))\n",
        "print(type([]))\n",
        "print(type(()))\n",
        "print(type({}))"
      ],
      "execution_count": null,
      "outputs": [
        {
          "output_type": "stream",
          "text": [
            "<class 'int'>\n",
            "<class 'list'>\n",
            "<class 'tuple'>\n",
            "<class 'dict'>\n"
          ],
          "name": "stdout"
        }
      ]
    },
    {
      "cell_type": "code",
      "metadata": {
        "id": "3389JD1r4Ncp",
        "colab": {
          "base_uri": "https://localhost:8080/"
        },
        "outputId": "f973ca91-a4c1-4606-ca7c-9cae877f6f48"
      },
      "source": [
        "# class\n",
        "#    User defined objects are created using the class keyword. The class is a blueprint \n",
        "#        that defines the nature of a future object. From classes we can construct instances. \n",
        "#            An instance is a specific object created from a particular class. For example,\n",
        "#                we created the object lst which was an instance of a list object.\n",
        "\n",
        "#lst = [1,2,3]\n",
        "\n",
        "# Create a new object type called Sample\n",
        "class Sample:\n",
        "    pass\n",
        "\n",
        "# Instance of Sample\n",
        "x = Sample()\n",
        "\n",
        "print(type(x))"
      ],
      "execution_count": null,
      "outputs": [
        {
          "output_type": "stream",
          "text": [
            "<class '__main__.Sample'>\n"
          ],
          "name": "stdout"
        }
      ]
    },
    {
      "cell_type": "code",
      "metadata": {
        "id": "V2Qv5T7F4Ncp"
      },
      "source": [
        "# An attribute is a characteristic of an object. A method is an operation we can perform with \n",
        "#    the object.\n",
        "\n",
        "# For example, we can create a class called Dog. An attribute of a dog may be its breed or \n",
        "#    its name, while a method of a dog may be defined by a .bark() method which returns a sound.\n",
        "\n",
        "#constructor -> def __init__\n",
        "\n",
        "# Attributes\n",
        "#    The syntax for creating an attribute is:\n",
        "\n",
        "class Dog:\n",
        "    def __init__(self,breed):   \n",
        "        # self = sam\n",
        "        # breed = \"Lab\"   \n",
        "        # sam.breed = \"Lab\"  \n",
        "        self.breed = breed\n",
        "        # self = frank\n",
        "        # breed = \"Huskie\"\n",
        "        # frank.breed = \"Huskie\"\n",
        "\n",
        "        # sam.breed = breed Lab\n",
        "        # frank.breed = breed Huskie\n",
        "        \n",
        "sam = Dog('Lab')\n",
        "frank = Dog(breed='Huskie')\n",
        "aa = Dog(\"HH\")"
      ],
      "execution_count": null,
      "outputs": []
    },
    {
      "cell_type": "code",
      "metadata": {
        "id": "p1tyzmMS4Ncp",
        "colab": {
          "base_uri": "https://localhost:8080/",
          "height": 35
        },
        "outputId": "3451ed12-00c0-4e05-9fb4-f954d4e3ebe7"
      },
      "source": [
        "sam.breed"
      ],
      "execution_count": null,
      "outputs": [
        {
          "output_type": "execute_result",
          "data": {
            "application/vnd.google.colaboratory.intrinsic+json": {
              "type": "string"
            },
            "text/plain": [
              "'Lab'"
            ]
          },
          "metadata": {
            "tags": []
          },
          "execution_count": 4
        }
      ]
    },
    {
      "cell_type": "code",
      "metadata": {
        "id": "N3lntUcB4Ncq",
        "colab": {
          "base_uri": "https://localhost:8080/",
          "height": 35
        },
        "outputId": "9afde2dc-9d8f-4319-9870-a8216b176dec"
      },
      "source": [
        "frank.breed"
      ],
      "execution_count": null,
      "outputs": [
        {
          "output_type": "execute_result",
          "data": {
            "application/vnd.google.colaboratory.intrinsic+json": {
              "type": "string"
            },
            "text/plain": [
              "'Huskie'"
            ]
          },
          "metadata": {
            "tags": []
          },
          "execution_count": 5
        }
      ]
    },
    {
      "cell_type": "code",
      "metadata": {
        "id": "gyObANnh4Ncr"
      },
      "source": [
        "class Dog:\n",
        "    \n",
        "    # Class Object Attribute\n",
        "    species = 'mammal'\n",
        "    # sam.species = 'mammal'\n",
        "    def __init__(self,breed,name):\n",
        "        # breed = \"Lab\"\n",
        "        # name = \"Sam\"\n",
        "        # self = sam\n",
        "        self.breed = breed\n",
        "        # sam.breed = 'Lab'\n",
        "        self.name = name\n",
        "        # sam.name = 'Sam'\n",
        "        "
      ],
      "execution_count": null,
      "outputs": []
    },
    {
      "cell_type": "code",
      "metadata": {
        "id": "2gVGcJOZ4Ncr"
      },
      "source": [
        "sam = Dog('Lab','Sam')\n",
        "frank = Dog('Huskie','Frank')\n",
        "\n"
      ],
      "execution_count": null,
      "outputs": []
    },
    {
      "cell_type": "code",
      "metadata": {
        "colab": {
          "base_uri": "https://localhost:8080/",
          "height": 35
        },
        "id": "sHP1TMMk9VHv",
        "outputId": "9831db4e-be11-45fa-c8f3-d1d6e0cc5a1c"
      },
      "source": [
        "sam.breed"
      ],
      "execution_count": null,
      "outputs": [
        {
          "output_type": "execute_result",
          "data": {
            "application/vnd.google.colaboratory.intrinsic+json": {
              "type": "string"
            },
            "text/plain": [
              "'Lab'"
            ]
          },
          "metadata": {
            "tags": []
          },
          "execution_count": 13
        }
      ]
    },
    {
      "cell_type": "code",
      "metadata": {
        "colab": {
          "base_uri": "https://localhost:8080/",
          "height": 35
        },
        "id": "3xs-JTCd9Nbn",
        "outputId": "3cb4b34e-3cd2-4300-98f1-97499782b6da"
      },
      "source": [
        "sam.name"
      ],
      "execution_count": null,
      "outputs": [
        {
          "output_type": "execute_result",
          "data": {
            "application/vnd.google.colaboratory.intrinsic+json": {
              "type": "string"
            },
            "text/plain": [
              "'Sam'"
            ]
          },
          "metadata": {
            "tags": []
          },
          "execution_count": 14
        }
      ]
    },
    {
      "cell_type": "code",
      "metadata": {
        "id": "X5TeGudb4Ncr",
        "colab": {
          "base_uri": "https://localhost:8080/",
          "height": 35
        },
        "outputId": "fd0aa4d6-46eb-417f-93e4-ef421844e23e"
      },
      "source": [
        "sam.name"
      ],
      "execution_count": null,
      "outputs": [
        {
          "output_type": "execute_result",
          "data": {
            "application/vnd.google.colaboratory.intrinsic+json": {
              "type": "string"
            },
            "text/plain": [
              "'Sam'"
            ]
          },
          "metadata": {
            "tags": []
          },
          "execution_count": 15
        }
      ]
    },
    {
      "cell_type": "code",
      "metadata": {
        "colab": {
          "base_uri": "https://localhost:8080/",
          "height": 35
        },
        "id": "8veGOOOI9ZBH",
        "outputId": "db480226-9849-4a96-d3a8-792020c0aedb"
      },
      "source": [
        "frank.breed"
      ],
      "execution_count": null,
      "outputs": [
        {
          "output_type": "execute_result",
          "data": {
            "application/vnd.google.colaboratory.intrinsic+json": {
              "type": "string"
            },
            "text/plain": [
              "'Huskie'"
            ]
          },
          "metadata": {
            "tags": []
          },
          "execution_count": 16
        }
      ]
    },
    {
      "cell_type": "code",
      "metadata": {
        "colab": {
          "base_uri": "https://localhost:8080/",
          "height": 35
        },
        "id": "0rxjpfEU9bEf",
        "outputId": "9dd10bb2-4308-4da7-b566-e47efa201dcc"
      },
      "source": [
        "frank.name"
      ],
      "execution_count": null,
      "outputs": [
        {
          "output_type": "execute_result",
          "data": {
            "application/vnd.google.colaboratory.intrinsic+json": {
              "type": "string"
            },
            "text/plain": [
              "'Frank'"
            ]
          },
          "metadata": {
            "tags": []
          },
          "execution_count": 17
        }
      ]
    },
    {
      "cell_type": "code",
      "metadata": {
        "colab": {
          "base_uri": "https://localhost:8080/",
          "height": 35
        },
        "id": "Y-LTlRX3h90h",
        "outputId": "4a4a1ea6-fc8f-4dfa-a086-75e2452bdeaf"
      },
      "source": [
        "sam.name = \"Mow\"\r\n",
        "sam.name"
      ],
      "execution_count": null,
      "outputs": [
        {
          "output_type": "execute_result",
          "data": {
            "application/vnd.google.colaboratory.intrinsic+json": {
              "type": "string"
            },
            "text/plain": [
              "'Mow'"
            ]
          },
          "metadata": {
            "tags": []
          },
          "execution_count": 18
        }
      ]
    },
    {
      "cell_type": "code",
      "metadata": {
        "colab": {
          "base_uri": "https://localhost:8080/"
        },
        "id": "NY2n32Ug9aLe",
        "outputId": "3b0cb820-1d96-4ab4-b219-798de42c72eb"
      },
      "source": [
        "print(sam.species)\r\n",
        "print(frank.species)"
      ],
      "execution_count": null,
      "outputs": [
        {
          "output_type": "stream",
          "text": [
            "mammal\n",
            "mammal\n"
          ],
          "name": "stdout"
        }
      ]
    },
    {
      "cell_type": "code",
      "metadata": {
        "id": "MH_nmfZx4Ncs",
        "colab": {
          "base_uri": "https://localhost:8080/",
          "height": 35
        },
        "outputId": "14ca67b8-5cc1-4d5f-9982-0aa93ae3fd0a"
      },
      "source": [
        "sam.species"
      ],
      "execution_count": null,
      "outputs": [
        {
          "output_type": "execute_result",
          "data": {
            "application/vnd.google.colaboratory.intrinsic+json": {
              "type": "string"
            },
            "text/plain": [
              "'mammal'"
            ]
          },
          "metadata": {
            "tags": []
          },
          "execution_count": 9
        }
      ]
    },
    {
      "cell_type": "code",
      "metadata": {
        "id": "XlqqgQjv4Ncs",
        "colab": {
          "base_uri": "https://localhost:8080/"
        },
        "outputId": "cbfc4240-83ab-44f3-b5a2-60b26ab3970d"
      },
      "source": [
        "class Circle:\n",
        "    pi = 3.14\n",
        "    # c.pi = 3.14\n",
        "    # Circle gets instantiated with a radius (default is 1)\n",
        "    def __init__(self, radius=1):\n",
        "        self.radius = radius\n",
        "        # c.radius = 1\n",
        "        self.area = radius * radius * self.pi\n",
        "        # c.area = p r ^2\n",
        "\n",
        "    # Method for resetting Radius\n",
        "    def setRadius(self, new_radius,pi):\n",
        "        self.radius = new_radius\n",
        "        self.pi = pi\n",
        "        self.area = new_radius * new_radius * self.pi\n",
        "\n",
        "    # Method for getting Circumference\n",
        "    def getCircumference(self):\n",
        "        return self.radius * self.pi * 2\n",
        "        # c Circumference\n",
        "\n",
        "c = Circle(3)\n",
        "d = Circle(5)\n",
        "print('Radius is: ',c.radius)\n",
        "print('Area is: ',c.area)\n",
        "\n",
        "\n"
      ],
      "execution_count": null,
      "outputs": [
        {
          "output_type": "stream",
          "text": [
            "Radius is:  3\n",
            "Area is:  28.26\n"
          ],
          "name": "stdout"
        }
      ]
    },
    {
      "cell_type": "code",
      "metadata": {
        "colab": {
          "base_uri": "https://localhost:8080/"
        },
        "id": "dzE5hSrHR9fC",
        "outputId": "8250e631-3497-4221-cfed-f8653910b83d"
      },
      "source": [
        "c.radius = 1\r\n",
        "print('Radius is: ',c.radius)\r\n",
        "print('Area is: ',c.area)\r\n"
      ],
      "execution_count": null,
      "outputs": [
        {
          "output_type": "stream",
          "text": [
            "Radius is:  1\n",
            "Area is:  28.26\n"
          ],
          "name": "stdout"
        }
      ]
    },
    {
      "cell_type": "code",
      "metadata": {
        "colab": {
          "base_uri": "https://localhost:8080/"
        },
        "id": "xOWmJ6hQR8s-",
        "outputId": "426f7488-3935-4e8d-94bd-868d4ed908e1"
      },
      "source": [
        "\r\n",
        "c.setRadius(3,3.1415)\r\n",
        "\r\n",
        "print('Radius is: ',c.radius)\r\n",
        "print('Area is: ',c.area)\r\n",
        "\r\n",
        "\r\n",
        "\r\n",
        "print('Circumference is: ',c.getCircumference())"
      ],
      "execution_count": null,
      "outputs": [
        {
          "output_type": "stream",
          "text": [
            "Radius is:  3\n",
            "Area is:  28.273500000000002\n",
            "Circumference is:  18.849\n"
          ],
          "name": "stdout"
        }
      ]
    },
    {
      "cell_type": "code",
      "metadata": {
        "id": "TG-jJysZ4Nct",
        "colab": {
          "base_uri": "https://localhost:8080/"
        },
        "outputId": "9c91e533-bb6a-4791-dc33-5f8167fe74fb"
      },
      "source": [
        "c.setRadius(2,4)\n",
        "          # r pi\n",
        "print('Radius is: ',c.radius)\n",
        "print('Area is: ',c.area)\n",
        "print('Circumference is: ',c.getCircumference())\n"
      ],
      "execution_count": null,
      "outputs": [
        {
          "output_type": "stream",
          "text": [
            "Radius is:  2\n",
            "Area is:  16\n",
            "Circumference is:  16\n"
          ],
          "name": "stdout"
        }
      ]
    },
    {
      "cell_type": "code",
      "metadata": {
        "id": "1zAifMV34Nct"
      },
      "source": [
        "# Inheritance\n",
        "\n",
        "#    Inheritance is a way to form new classes using classes that have already been defined. \n",
        "#      The newly formed classes are called derived classes, the classes that we derive from are \n",
        "#         called base classes.\n",
        "\n",
        "class Animal:\n",
        "    def __init__(self):\n",
        "        print(\"Animal created\")\n",
        "\n",
        "    def whoAmI(self):\n",
        "        print(\"Animal\")\n",
        "\n",
        "    def eat(self):\n",
        "        print(\"Eating\")\n",
        "\n",
        "\n",
        "class Dog(Animal):\n",
        "    def __init__(self):\n",
        "        print(\"Dog created\")\n",
        "\n",
        "    def whoAmI(self):\n",
        "        print(\"Dog\")\n",
        "\n",
        "    def bark(self):\n",
        "        print(\"Woof!\")\n"
      ],
      "execution_count": null,
      "outputs": []
    },
    {
      "cell_type": "code",
      "metadata": {
        "id": "K-lOXpys4Nct",
        "colab": {
          "base_uri": "https://localhost:8080/"
        },
        "outputId": "151b7424-81c2-42b3-e48d-70198788469e"
      },
      "source": [
        "d = Dog()"
      ],
      "execution_count": null,
      "outputs": [
        {
          "output_type": "stream",
          "text": [
            "Animal created\n",
            "Dog created\n"
          ],
          "name": "stdout"
        }
      ]
    },
    {
      "cell_type": "code",
      "metadata": {
        "colab": {
          "base_uri": "https://localhost:8080/"
        },
        "id": "xogdx2niDruw",
        "outputId": "09cab77f-0cfa-4efa-b5f5-0bf66db427ef"
      },
      "source": [
        "d.eat()"
      ],
      "execution_count": null,
      "outputs": [
        {
          "output_type": "stream",
          "text": [
            "Eating\n"
          ],
          "name": "stdout"
        }
      ]
    },
    {
      "cell_type": "code",
      "metadata": {
        "id": "jJekpVhz4Nct",
        "colab": {
          "base_uri": "https://localhost:8080/"
        },
        "outputId": "4d400418-6fbf-42a1-f249-cfb20f3affc1"
      },
      "source": [
        "d.whoAmI()"
      ],
      "execution_count": null,
      "outputs": [
        {
          "output_type": "stream",
          "text": [
            "Dog\n"
          ],
          "name": "stdout"
        }
      ]
    },
    {
      "cell_type": "code",
      "metadata": {
        "colab": {
          "base_uri": "https://localhost:8080/"
        },
        "id": "9hJBH8yZDmhS",
        "outputId": "51d2c588-a547-4e58-fa82-cbc1b44acdd5"
      },
      "source": [
        "d.bark()"
      ],
      "execution_count": null,
      "outputs": [
        {
          "output_type": "stream",
          "text": [
            "Woof!\n"
          ],
          "name": "stdout"
        }
      ]
    },
    {
      "cell_type": "code",
      "metadata": {
        "id": "ceTkK32G4Ncu",
        "colab": {
          "base_uri": "https://localhost:8080/"
        },
        "outputId": "7988009d-1d57-47be-b42d-8cbbc1a57746"
      },
      "source": [
        "d.eat()"
      ],
      "execution_count": null,
      "outputs": [
        {
          "output_type": "stream",
          "text": [
            "Eating\n"
          ],
          "name": "stdout"
        }
      ]
    },
    {
      "cell_type": "code",
      "metadata": {
        "id": "Dr7UzRVe4Ncu",
        "colab": {
          "base_uri": "https://localhost:8080/"
        },
        "outputId": "1e677c05-d91e-4401-a9d9-0f914c8dab4d"
      },
      "source": [
        "d.bark()"
      ],
      "execution_count": null,
      "outputs": [
        {
          "output_type": "stream",
          "text": [
            "Woof!\n"
          ],
          "name": "stdout"
        }
      ]
    },
    {
      "cell_type": "code",
      "metadata": {
        "id": "j0dGMT8W4Ncu"
      },
      "source": [
        ""
      ],
      "execution_count": null,
      "outputs": []
    },
    {
      "cell_type": "code",
      "metadata": {
        "id": "TZ6ia6xK4Ncu",
        "colab": {
          "base_uri": "https://localhost:8080/"
        },
        "outputId": "bc211b5a-09c1-41a6-b6c1-d3be61d2b6d9"
      },
      "source": [
        "# polymorphism refers to the way in which different object classes can share the same method name, \n",
        "#    and those methods can be called from the same place\n",
        "\n",
        "\n",
        "class Dog:\n",
        "    def __init__(self, name):\n",
        "        self.name = name\n",
        "\n",
        "    def speak(self):\n",
        "        return self.name+' says Woof!'\n",
        "    \n",
        "class Cat:\n",
        "    def __init__(self, name):\n",
        "        self.name = name\n",
        "\n",
        "    def speak(self):\n",
        "        return self.name+' says Meow!' \n",
        "    \n",
        "niko = Dog('Niko')\n",
        "felix = Cat('Felix')\n",
        "\n",
        "print(niko.speak())\n",
        "print(felix.speak())"
      ],
      "execution_count": null,
      "outputs": [
        {
          "output_type": "stream",
          "text": [
            "Niko says Woof!\n",
            "Felix says Meow!\n"
          ],
          "name": "stdout"
        }
      ]
    },
    {
      "cell_type": "code",
      "metadata": {
        "id": "ai2poo-t4Ncu",
        "colab": {
          "base_uri": "https://localhost:8080/"
        },
        "outputId": "91c02738-39a7-44ea-953c-09413641f490"
      },
      "source": [
        "def pet_speak(pet):\n",
        "    print(pet.speak())\n",
        "\n",
        "\n",
        "pet_speak(niko)\n",
        "# print(niko.speak())\n",
        "\n",
        "pet_speak(felix)\n",
        "# print(felix.speak())"
      ],
      "execution_count": null,
      "outputs": [
        {
          "output_type": "stream",
          "text": [
            "Niko says Woof!\n",
            "Felix says Meow!\n"
          ],
          "name": "stdout"
        }
      ]
    },
    {
      "cell_type": "code",
      "metadata": {
        "id": "Y9jnJx1T4Ncv"
      },
      "source": [
        "# Encapsulation\n",
        "\n",
        "#  Using OOP in Python, we can restrict access to methods and variables. This prevent data from direct modification which is called \n",
        "#      encapsulation. In Python, we denote private attribute using underscore as prefix i.e single “ _ “ or double “ __“.\n",
        "\n",
        "\n",
        "class Computer:\n",
        "\n",
        "    def __init__(self,price):\n",
        "        self.__maxprice = price\n",
        "        # c.__max_price = 900\n",
        "\n",
        "    def sell(self):\n",
        "        print(\"Selling Price:\",self.__maxprice)\n",
        "        # c.max_price = 900\n",
        "\n",
        "    def setMaxPrice(self, price):\n",
        "        self.__maxprice = price\n",
        "        \n",
        "\n",
        "\n"
      ],
      "execution_count": null,
      "outputs": []
    },
    {
      "cell_type": "code",
      "metadata": {
        "id": "1BfV4kBql_K2"
      },
      "source": [
        "c = Computer(900)\r\n"
      ],
      "execution_count": null,
      "outputs": []
    },
    {
      "cell_type": "code",
      "metadata": {
        "colab": {
          "base_uri": "https://localhost:8080/"
        },
        "id": "TQpvrdKkhghr",
        "outputId": "81fb9024-0e33-451c-9977-da709f4ccf29"
      },
      "source": [
        "c.sell()"
      ],
      "execution_count": null,
      "outputs": [
        {
          "output_type": "stream",
          "text": [
            "Selling Price: 500\n"
          ],
          "name": "stdout"
        }
      ]
    },
    {
      "cell_type": "code",
      "metadata": {
        "id": "3aiY8jhSGjJs"
      },
      "source": [
        "c._Computer__maxprice = 500"
      ],
      "execution_count": null,
      "outputs": []
    },
    {
      "cell_type": "code",
      "metadata": {
        "colab": {
          "base_uri": "https://localhost:8080/"
        },
        "id": "VEad7XjOhrnM",
        "outputId": "b8b255be-a92f-4028-c7ab-b864dc8a33f9"
      },
      "source": [
        "# change the price\r\n",
        "c.__maxprice = 1500\r\n",
        "c.sell()"
      ],
      "execution_count": null,
      "outputs": [
        {
          "output_type": "stream",
          "text": [
            "Selling Price: 900\n"
          ],
          "name": "stdout"
        }
      ]
    },
    {
      "cell_type": "code",
      "metadata": {
        "colab": {
          "base_uri": "https://localhost:8080/"
        },
        "id": "i8_RZW3XhhfM",
        "outputId": "5bd62c0a-287c-4fe1-d7b5-680ad04470b7"
      },
      "source": [
        "# # using setter function\r\n",
        "c.setMaxPrice(1500)\r\n",
        "c.sell()\r\n",
        "# # using setter function\r\n",
        "# c.setMaxPrice(900)\r\n",
        "# # c.__maxprice = 900\r\n"
      ],
      "execution_count": null,
      "outputs": [
        {
          "output_type": "stream",
          "text": [
            "Selling Price: 1500\n"
          ],
          "name": "stdout"
        }
      ]
    },
    {
      "cell_type": "markdown",
      "metadata": {
        "id": "9_i4WWjG4Ncv"
      },
      "source": [
        "In the above program, we defined a class Computer. We use init() method to store the maximum selling price of computer. We tried to modify the price. However, we can’t change it because Python treats the __maxprice as private attributes. To change the value, we used a setter function i.e setMaxPrice() which takes price as parameter."
      ]
    },
    {
      "cell_type": "code",
      "metadata": {
        "id": "SjsfcHJE4Ncv",
        "colab": {
          "base_uri": "https://localhost:8080/"
        },
        "outputId": "36f0b422-50da-4e3b-c560-89d1dcff1e85"
      },
      "source": [
        "# Abstract\n",
        "\n",
        "# A class is called an Abstract class if it contains one or more abstract methods. An abstract method is a method that is declared, but contains no implementation. \n",
        "#  Abstract classes may not be instantiated, and its abstract methods must be implemented by its subclasses.\n",
        "\n",
        "\n",
        "\n",
        "import abc\n",
        "class Shape(metaclass=abc.ABCMeta):\n",
        "   @abc.abstractmethod\n",
        "   def area(self):\n",
        "      pass\n",
        "\n",
        "\n",
        "class Rectangle(Shape):\n",
        "   def __init__(self, x,y):\n",
        "      self.l = x\n",
        "      self.b=y\n",
        "   def area(self):\n",
        "      return self.l*self.b\n",
        "\n",
        "class Circle(Shape):\n",
        "    def __init__(self,r):\n",
        "      self.r = r\n",
        "    def area(self):\n",
        "      return self.r*self.r*3.14\n",
        "\n",
        "r = Rectangle(10,20)\n",
        "c = Circle(10)\n",
        "print ('area: ',r.area())\n",
        "print ('area: ',c.area())"
      ],
      "execution_count": null,
      "outputs": [
        {
          "output_type": "stream",
          "text": [
            "area:  200\n",
            "area:  314.0\n"
          ],
          "name": "stdout"
        }
      ]
    },
    {
      "cell_type": "code",
      "metadata": {
        "id": "FRS7m_7knJx7"
      },
      "source": [
        ""
      ],
      "execution_count": null,
      "outputs": []
    }
  ]
}
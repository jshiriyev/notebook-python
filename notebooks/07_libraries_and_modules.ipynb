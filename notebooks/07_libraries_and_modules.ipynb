{
 "cells": [
  {
   "cell_type": "markdown",
   "metadata": {},
   "source": [
    "Using Modules\n",
    "=============\n",
    "\n",
    "In python code, we may want to access functions that are not automatically included (unlike the built-in functions). There are a number of collections of functions that we can use by \"importing their modules\". A module is a collection of python functions.\n",
    "\n",
    "A module might be provided by default with your installed of the python programming language, you might download a module that someone else has written, or you might even write your own module.\n",
    "\n",
    "No matter which of these kinds of modules you are working with, how you use them will be almost exactly the same."
   ]
  },
  {
   "cell_type": "markdown",
   "metadata": {},
   "source": [
    "Taking a closer look: `random`\n",
    "----------------\n",
    "There many, many python modules but we will focus on one of them for the time being: `random`.\n",
    "\n",
    "`random` will let us generate (pseudo) random numbers. (Generating a truly random number is *__extremely__* hard; most programming languages have default modules that generate *seemingly* random numbers.)\n",
    "\n",
    "When we want to access the functionality of a module, we need to __import that module__.\n",
    "\n",
    "Since these modules are provided with python by default, we don't need to install anything extra before we can access them. We do, however, need to say in our programs that we would like to access them!"
   ]
  },
  {
   "cell_type": "markdown",
   "metadata": {},
   "source": [
    "Importing Modules\n",
    "--------------\n",
    "\n",
    "There are a number of ways to import modules. Let's get started by taking a look at the \"most basic\":\n",
    "\n",
    "```python\n",
    "import modulename   # goes at the top of your program\n",
    "\n",
    "# you can access functions from the module later like this\n",
    "modulename.functionname()\n",
    "```\n",
    "\n",
    "Let's take a look at a live example with [the random module](https://docs.python.org/3/library/random.html), using [the functions that it provides for integers](https://docs.python.org/3/library/random.html#functions-for-integers)."
   ]
  },
  {
   "cell_type": "code",
   "execution_count": null,
   "metadata": {},
   "outputs": [],
   "source": [
    "import random\n",
    "\n",
    "\n",
    "# generate one random number between 0 (inclusive) and 5 (inclusive)\n",
    "x = random.randint(0, 5)\n",
    "print(x)\n",
    "\n",
    "# generate one random number between 0 (inclusive) and 2 (exclusive)\n",
    "y = random.randrange(0, 2)\n",
    "print(y)\n",
    "\n",
    "# generate one random number between 1 (inclusive) and 100 (exclusive)\n",
    "# selecting from only the odd numbers\n",
    "z = random.randrange(1, 100, 2)\n",
    "print(z)\n"
   ]
  },
  {
   "cell_type": "markdown",
   "metadata": {},
   "source": [
    "There are three other ways of importing modules that you may see:\n",
    "\n",
    "1. `import module as name`: same as `import module`, but gives a \"nickname\" to the module so its functions would be accessed via `name.function()` rather than `module.function()`. It's fine with us if you use this strategy __so long as your name for the module is sensible__. This strategy is very useful when you are frequently accessing the functions in a module so that you don't have to type quite as much!\n",
    "\n",
    "See the example below [using the calendar module](https://docs.python.org/3/library/calendar.html#module-calendar)"
   ]
  },
  {
   "cell_type": "code",
   "execution_count": null,
   "metadata": {},
   "outputs": [],
   "source": [
    "import calendar as cal\n",
    "\n",
    "# get the day number of the given year, month, day\n",
    "# 0 is Monday, 1 is Tuesday, 2 is Wednesday, etc\n",
    "day_num = cal.weekday(2019, 8, 26)\n",
    "print(day_num)\n",
    "\n",
    "# get a string calendar for a given year\n",
    "c = cal.calendar(2019)\n",
    "print(c)"
   ]
  },
  {
   "cell_type": "markdown",
   "metadata": {},
   "source": [
    "2. `from module import *`: imports all functions from a module directly so you just use `function()` to call the functions rather than `module.function()`. __We prefer `import module` because it makes it clearer where our different functions are coming from__.\n",
    "\n",
    "See the example below [using the math module](https://docs.python.org/3/library/math.html#module-math)"
   ]
  },
  {
   "cell_type": "code",
   "execution_count": null,
   "metadata": {},
   "outputs": [],
   "source": [
    "from math import *\n",
    "\n",
    "# return the ceiling of the given number\n",
    "up = ceil(5.3)\n",
    "print(up)\n",
    "\n",
    "# is the sqrt function a default function or a math function?\n",
    "root = sqrt(144)\n",
    "print(root)\n",
    "\n",
    "# what about the sum function?\n",
    "s = sum([1, 2, 6, 99])\n",
    "print(s)"
   ]
  },
  {
   "cell_type": "markdown",
   "metadata": {},
   "source": [
    "\n",
    "3. `from module import specific_piece`: imports only the specified functions/objects from a module directly so you just use `function()` to call the functions rather than `module.function()`. __We prefer `import module` because it makes it clearer where our different functions are coming from__.\n",
    "\n",
    "This is useful if a module is large and you onlky need one specific piece. See the example below using the `calendar` module."
   ]
  },
  {
   "cell_type": "code",
   "execution_count": null,
   "metadata": {},
   "outputs": [],
   "source": [
    "from calendar import weekday\n",
    "\n",
    "# NOTICE that we no longer say calendar.weekday(params)\n",
    "# get the day number of the given year, month, day\n",
    "# 0 is Monday, 1 is Tuesday, 2 is Wednesday, etc\n",
    "day_num = weekday(2019, 12, 12)\n",
    "print(day_num)"
   ]
  },
  {
   "cell_type": "code",
   "execution_count": null,
   "metadata": {},
   "outputs": [],
   "source": []
  },
  {
   "cell_type": "markdown",
   "metadata": {},
   "source": [
    "Using Custom Modules\n",
    "=================\n",
    "\n",
    "Sometimes, we might want to use a module that python doesn't come with by default. We'll call these modules \"custom modules\".\n",
    "\n",
    "When we talk about using custom modules, it's important to understand that a module is really just a nicely encapsulated collection of functions.\n",
    "\n",
    "Let's say, for example, that the instructor of your class wanted to provide you with some pre-written functions to use in your homework. Rather than telling you to copy + paste the functions into your program, they would like to provide them as a module so that you can use the functions in your program, but not modify their contents.\n",
    "\n",
    "To do this, your instructor will provide you with code [as a .py file](../../02/5/file_types.html), for example `secrets.py`.\n",
    "\n",
    "The contents of `secrets.py` may look something like the following:\n",
    "\n",
    "```\n",
    "\n",
    "def hello(name):\n",
    "    print(\"Hello \" + name)\n",
    "    print(\"This greeting came from the hw1 module!\")\n",
    "    \n",
    "def goodbye():\n",
    "    print(\"Goodbye from the hw1 module)\n",
    "    \n",
    "```\n",
    "\n",
    "Now, the question becomes, how does one go about actually *using* the code your instructor provided as a module?"
   ]
  },
  {
   "cell_type": "markdown",
   "metadata": {},
   "source": [
    "Step 1: Ensure that the module is in the proper location\n",
    "------------------\n",
    "\n",
    "To access a module that has been provided as a `.py` file, the `.py` file needs to be __in the same folder as your program__.\n",
    "\n",
    "For example, you may be working in your `homework2/` folder, which is located in your `computer_science` folder:\n",
    "\n",
    "```\n",
    "computer_science/\n",
    "    homework1/\n",
    "        homework1.ipynb\n",
    "    homework2/\n",
    "        homework2.ipynb\n",
    "```\n",
    "\n",
    "To use the module that your instructor has provided in `homework2.ipynb`, it should be placed in your `homework2` folder:\n",
    "\n",
    "\n",
    "```\n",
    "computer_science/\n",
    "    homework1/\n",
    "        homework1.ipynb\n",
    "    homework2/\n",
    "        homework2.ipynb\n",
    "        secrets.py\n",
    "```"
   ]
  },
  {
   "cell_type": "markdown",
   "metadata": {},
   "source": [
    "Step 2: Import the module\n",
    "------------------\n",
    "\n",
    "Now that the files are in the appropriate locations, we can use the functions in the module after we import the module in our code.\n",
    "\n",
    "```\n",
    "import secrets\n",
    "\n",
    "secrets.hello(\"Spock\")\n",
    "secrets.goodbye()\n",
    "```"
   ]
  },
  {
   "cell_type": "code",
   "execution_count": null,
   "metadata": {},
   "outputs": [],
   "source": []
  },
  {
   "cell_type": "markdown",
   "metadata": {},
   "source": [
    "Writing your own modules\n",
    "====================\n",
    "\n",
    "At its basis, a module is just python code. This means that we already have the skills to write a module of our own. Similarly to using custom modules, writing custom modules requires two steps.\n",
    "\n",
    "Step 1: Create the `.py` file for your module\n",
    "----------------------\n",
    "For your module, you'll want to create a new `.py` file. The module name will be the name of the file before the `.py` part. If, for example, we wanted to create a module with some math functions inside of it, we might create the file `mymath.py`. Then, inside this file, we would write the definitions of the functions that we want to provide.\n",
    "\n",
    "```python\n",
    "# a small module containing one function\n",
    "\n",
    "# This function adds the absolute values of \n",
    "# two numbers together\n",
    "# Params: \n",
    "# int - the first number to add\n",
    "# int - the second number to add\n",
    "# Returns the sum of the absolute values of the two numbers\n",
    "def add_absolute(num1, num2):\n",
    "    abs_sum = abs(num1) + abs(num2)\n",
    "    return abs_sum\n",
    "```"
   ]
  },
  {
   "cell_type": "markdown",
   "metadata": {},
   "source": [
    "\n",
    "Step 2: Import the module into your code\n",
    "----------------------\n",
    "\n",
    "To actually use and/or access \n"
   ]
  },
  {
   "cell_type": "code",
   "execution_count": null,
   "metadata": {},
   "outputs": [],
   "source": []
  },
  {
   "cell_type": "markdown",
   "metadata": {},
   "source": [
    "`main` and `if __name__ == \"__main__\"`:\n",
    "------------------\n",
    "\n",
    "Another common programming pattern that you will likely encounter in python is when we hide the call to `main` in a guard that prevents the  main function from running if this code was imported as a module.\n",
    "\n",
    "\n",
    "```python\n",
    "def main():\n",
    "    # code to run our program goes here\n",
    "    \n",
    "# two underscores precede and succeed \"name\" and \"main\" this is\n",
    "# important that you type exactly like this\n",
    "if __name__ == \"__main__\":\n",
    "    main()\n",
    "```\n",
    "\n",
    "We'll talk more about the more techincal reasons that we do this when we talk about modules."
   ]
  },
  {
   "cell_type": "code",
   "execution_count": null,
   "metadata": {},
   "outputs": [],
   "source": []
  },
  {
   "cell_type": "markdown",
   "metadata": {},
   "source": [
    "Runtime\n",
    "========\n",
    "\n",
    "Runtime is the amount of time that it take for a program or piece of code to run. It can either be measured in real time (minutes, seconds, milliseconds, etc) or in *number of operations*. Computer scientists study runtime most often in terms of number of operations, but it is much easier for us to see the effects of different runtimes directly if we measure using real time.\n",
    "\n",
    "To do our measurements we will use the `time` module (see [section 9.1](01_using_modules.ipynb) for instructions on how to import modules).\n",
    "\n",
    "\n",
    "There are four important pieces to using the `time` module to measure how long code takes to run:\n",
    "\n",
    "```python\n",
    "import time  # 1) import the module\n",
    "\n",
    "\n",
    "# 2) get the initial time\n",
    "start = time.time()\n",
    "# code that you want to time goes here\n",
    "super_complex_math = 1 + 3\n",
    "\n",
    "# 3) get the ending time\n",
    "end = time.time()\n",
    "\n",
    "# 4) calculate the elapsed time\n",
    "elapsed = end - start\n",
    "```\n",
    "\n",
    "A Note on Scientific Notation\n",
    "-------------\n",
    "\n",
    "You'll notice in the example below that scientific notation is used when numbers are very very small, for example.\n",
    "\n",
    "A number that looks like `1.0e-05` is equivalent to `1.0 * (10 ** -5)` or `.00001`."
   ]
  },
  {
   "cell_type": "code",
   "execution_count": null,
   "metadata": {},
   "outputs": [],
   "source": [
    "# TODO: Run me! How long does this code take to run? Does it always take the same amount of time?\n",
    "# Answer:\n",
    "# Challenge! Change the code that is being timed—can you make it so that it takes 1 full second to run?\n",
    "\n",
    "\n",
    "import time  # 1) import the module\n",
    "\n",
    "\n",
    "# 2) get the initial time\n",
    "start = time.time()\n",
    "# code that you want to time goes here\n",
    "super_complex_math = 1 + 3\n",
    "\n",
    "# 3) get the ending time\n",
    "end = time.time()\n",
    "\n",
    "# 4) calculate the elapsed time\n",
    "elapsed = end - start\n",
    "print(\"That took: \" + str(elapsed) + \" seconds\")"
   ]
  }
 ],
 "metadata": {
  "kernelspec": {
   "display_name": "Python 3",
   "language": "python",
   "name": "python3"
  },
  "language_info": {
   "codemirror_mode": {
    "name": "ipython",
    "version": 3
   },
   "file_extension": ".py",
   "mimetype": "text/x-python",
   "name": "python",
   "nbconvert_exporter": "python",
   "pygments_lexer": "ipython3",
   "version": "3.6.1"
  }
 },
 "nbformat": 4,
 "nbformat_minor": 2
}

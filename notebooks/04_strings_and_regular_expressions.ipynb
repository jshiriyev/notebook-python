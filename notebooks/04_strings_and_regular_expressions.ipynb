{
 "cells": [
  {
   "cell_type": "markdown",
   "id": "8a519fa0",
   "metadata": {},
   "source": [
    "#### Regular Expressions ####\n",
    "     ->Regular expressions are patterns that specify a matching rule.\n",
    "     ->Generally contain a mix of text and special characters.\n",
    "     ->Provides regular expression pattern matching and replacement.\n",
    "#### Regular expression pattern rules ####\n",
    "        text    -Match literal text\n",
    "        .       -Match any character except newline\n",
    "        ^       -Match the start of a string(^ kerat-sign)\n",
    "        $       -Match the end of a string\n",
    "        *       -Match 0 or more repetitions\n",
    "        +       -Match 1 or more repetitions\n",
    "        ?       -Match 0 or 1 repetitions\n",
    "        *?      -Match 0 or more, few as possible\n",
    "        +?      -Match 1 or more, few as possible\n",
    "        {m,n}   -Match m to n repetitions\n",
    "        {m,n}?  -Match m to n repetitions, few as possible\n",
    "        [...]   -Match a set of characters(range or \"variance\",[A-Z])\n",
    "        [^...]  -Match characters not in set\n",
    "        A | B   -Match A or B( | bar)\n",
    "        (...)   -Match regex in parenthesis as a group\n",
    "#### Special characters, Identifiers:  ####\n",
    "      \\number   -Matches text matched by previous group\n",
    "      \\A        -Matches start of string\n",
    "      \\b        -Matches empty string at beginning or end of word\n",
    "      \\B        -Matches empty string not at begin or end of word\n",
    "      \\d        -Matches any decimal digit\n",
    "      \\D        -Matches any non-digit\n",
    "      \\s        -Matches any whitespace\n",
    "      \\S        -Matches any non-whitespace\n",
    "      \\w        -Matches any alphanumeric character\n",
    "      \\W        -Matches characters not in \\w\n",
    "      \\Z        -Match at end of string.\n",
    "      \\\\        -Literal backslash\n",
    "#### White Space characters: ####\n",
    "      \\n        -new line\n",
    "      \\s        -space\n",
    "      \\t        -tab\n",
    "      \\e        -escape\n",
    "      \\f        -form feed\n",
    "      \\r        -return\n",
    "#### Regular Expression Objects ####\n",
    "    re.search(pattern,string)                    # Search for a match\n",
    "    re.match(pattern,string [,pos [,endpos]])    # Check string for match\n",
    "    re.split(pattern,string)                     # Split on a regex match\n",
    "    re.findall(pattern,string)                   # Find all matches\n",
    "    re.sub(pattern,replace,string)               # Replace all matches with replace\n",
    "    re.finditer(pattern,string)\n"
   ]
  },
  {
   "cell_type": "code",
   "execution_count": 173,
   "id": "61c04de4",
   "metadata": {},
   "outputs": [
    {
     "name": "stdout",
     "output_type": "stream",
     "text": [
      "vowels_lower_aze = 'aıoueəiöü'\n",
      "vowels_upper_aze = 'AIOUEƏİÖÜ'\n",
      "letters_lower_aze = 'abcçdeəfgğhxıijkqlmnoöprsştuüvyz'\n",
      "letters_upper_aze = 'ABCÇDEƏFGĞHXIİJKQLMNOÖPRSŞTUÜVYZ'\n",
      "letters_aze = 'abcçdeəfgğhxıijkqlmnoöprsştuüvyzABCÇDEƏFGĞHXIİJKQLMNOÖPRSŞTUÜVYZ'\n"
     ]
    }
   ],
   "source": [
    "import re\n",
    "\n",
    "vowels_lower_aze = \"aıoueəiöü\"\n",
    "vowels_upper_aze = \"AIOUEƏİÖÜ\"\n",
    "\n",
    "print(f\"{vowels_lower_aze = }\")\n",
    "print(f\"{vowels_upper_aze = }\")\n",
    "\n",
    "letters_lower_aze = \"abcçdeəfgğhxıijkqlmnoöprsştuüvyz\"\n",
    "letters_upper_aze = \"ABCÇDEƏFGĞHXIİJKQLMNOÖPRSŞTUÜVYZ\"\n",
    "\n",
    "letters_aze = letters_lower_aze+letters_upper_aze\n",
    "\n",
    "print(f\"{letters_lower_aze = }\")\n",
    "print(f\"{letters_upper_aze = }\")\n",
    "\n",
    "print(f\"{letters_aze = }\")"
   ]
  },
  {
   "cell_type": "markdown",
   "id": "69620fa2",
   "metadata": {},
   "source": [
    "## Problem 1: Create a program which matches a word containing vowels in it (a,ı,o,u,e,ə,i,ö,ü)."
   ]
  },
  {
   "cell_type": "code",
   "execution_count": 232,
   "id": "00105368",
   "metadata": {},
   "outputs": [
    {
     "name": "stdout",
     "output_type": "stream",
     "text": [
      "Cümlə insanlar ssss arasında fikir mübadiləsinin vasitəsidir. Ayrı-ayrı sözlərlə yanaşı, söz birləşmələri də cümləyə daxil olur.\n",
      "['Cümlə', 'insanlar', 'arasında', 'fikir', 'mübadiləsinin', 'vasitəsidir', 'Ayrı', 'ayrı', 'sözlərlə', 'yanaşı', 'söz', 'birləşmələri', 'də', 'cümləyə', 'daxil', 'olur']\n"
     ]
    }
   ],
   "source": [
    "text1 = \"Cümlə insanlar ssss arasında fikir mübadiləsinin vasitəsidir. Ayrı-ayrı sözlərlə yanaşı, söz birləşmələri də cümləyə daxil olur.\"\n",
    "\n",
    "print(text1)\n",
    "\n",
    "recomp = re.compile(r\"\\b[abcçdeəfgğhxıijkqlmnoöprsştuüvyzABCÇDEƏFGĞHXIİJKQLMNOÖPRSŞTUÜVYZ]+\\b\")\n",
    "\n",
    "list1 = []\n",
    "\n",
    "for word in recomp.findall(text1):\n",
    "    if re.search(r\"[aıoueəiöü]+\",word):\n",
    "        list1.append(word)\n",
    "    \n",
    "print(list1)"
   ]
  },
  {
   "cell_type": "markdown",
   "id": "d5e18a6b",
   "metadata": {},
   "source": [
    "## Problem 2: Create a program which matches a word containing vowels not at the start or end of the word (a,ı,o,u,e,ə,i,ö,ü)."
   ]
  },
  {
   "cell_type": "code",
   "execution_count": 237,
   "id": "0ad6dd0e",
   "metadata": {},
   "outputs": [
    {
     "name": "stdout",
     "output_type": "stream",
     "text": [
      "Cümlə insanlar ssss arasında fikir mübadiləsinin vasitəsidir. Ayrı-ayrı sözlərlə yanaşı, söz birləşmələri də cümləyə daxil olur.\n",
      "['Cümlə', 'ssss', 'fikir', 'mübadiləsinin', 'vasitəsidir', 'sözlərlə', 'yanaşı', 'söz', 'birləşmələri', 'də', 'cümləyə', 'daxil']\n"
     ]
    }
   ],
   "source": [
    "print(text1)\n",
    "\n",
    "recomp = re.compile(r\"\\b[abcçdeəfgğhxıijkqlmnoöprsştuüvyzABCÇDEƏFGĞHXIİJKQLMNOÖPRSŞTUÜVYZ]+\\b\")\n",
    "\n",
    "list1 = []\n",
    "\n",
    "for word in recomp.findall(text1):\n",
    "    if re.match(r\"\\b[^aıoueəiöüAIOUEƏİÖÜ]\",word):\n",
    "        list1.append(word)\n",
    "    \n",
    "print(list1)"
   ]
  },
  {
   "cell_type": "markdown",
   "id": "921935cd",
   "metadata": {},
   "source": [
    "## Problem 3: Create a program checks for a number at the end of a given string"
   ]
  },
  {
   "cell_type": "code",
   "execution_count": 155,
   "id": "3202e6e7",
   "metadata": {},
   "outputs": [
    {
     "name": "stdout",
     "output_type": "stream",
     "text": [
      "My phone number is 123-4567 not 456-7895\n"
     ]
    },
    {
     "data": {
      "text/plain": [
       "['7895', '']"
      ]
     },
     "execution_count": 155,
     "metadata": {},
     "output_type": "execute_result"
    }
   ],
   "source": [
    "text2 = \"My phone number is 123-4567 not 456-7895\"\n",
    "\n",
    "print(text2)\n",
    "\n",
    "recomp = re.compile(f\"[\\d]*\\Z\")\n",
    "\n",
    "recomp.findall(text2)"
   ]
  },
  {
   "cell_type": "markdown",
   "id": "e8f76640",
   "metadata": {},
   "source": [
    "## Problem 4: Create a program which matches a word at the end of string, with optional question mark and exclamation point."
   ]
  },
  {
   "cell_type": "code",
   "execution_count": 156,
   "id": "00eb3a36",
   "metadata": {},
   "outputs": [
    {
     "name": "stdout",
     "output_type": "stream",
     "text": [
      "Are you a student?\n",
      "not a Sentence\n",
      "You are smart!\n"
     ]
    }
   ],
   "source": [
    "text3 = \"Are you a student?\"\n",
    "text4 = \"not a Sentence\"\n",
    "text5 = \"You are smart!\"\n",
    "\n",
    "print(text3)\n",
    "print(text4)\n",
    "print(text5)\n",
    "\n",
    "recomp = re.compile(\"[A-z]*[\\!\\?]?\\Z\")"
   ]
  },
  {
   "cell_type": "code",
   "execution_count": 157,
   "id": "39737aad",
   "metadata": {},
   "outputs": [
    {
     "data": {
      "text/plain": [
       "['student?', '']"
      ]
     },
     "execution_count": 157,
     "metadata": {},
     "output_type": "execute_result"
    }
   ],
   "source": [
    "recomp.findall(text3)"
   ]
  },
  {
   "cell_type": "code",
   "execution_count": 158,
   "id": "2909182a",
   "metadata": {},
   "outputs": [
    {
     "data": {
      "text/plain": [
       "['Sentence', '']"
      ]
     },
     "execution_count": 158,
     "metadata": {},
     "output_type": "execute_result"
    }
   ],
   "source": [
    "recomp.findall(text4)"
   ]
  },
  {
   "cell_type": "code",
   "execution_count": 159,
   "id": "934d1189",
   "metadata": {},
   "outputs": [
    {
     "data": {
      "text/plain": [
       "['smart!', '']"
      ]
     },
     "execution_count": 159,
     "metadata": {},
     "output_type": "execute_result"
    }
   ],
   "source": [
    "recomp.findall(text5)"
   ]
  },
  {
   "cell_type": "markdown",
   "id": "ac4c5f88",
   "metadata": {},
   "source": [
    "## Problem 5: Create a program replaces whitespaces with a tab and vice versa."
   ]
  },
  {
   "cell_type": "code",
   "execution_count": 160,
   "id": "bd05fbfb",
   "metadata": {},
   "outputs": [
    {
     "data": {
      "text/plain": [
       "'My\\tname\\tis\\tJavid'"
      ]
     },
     "execution_count": 160,
     "metadata": {},
     "output_type": "execute_result"
    }
   ],
   "source": [
    "re.sub(\"\\s\",\"\\t\",\"My name is Javid\")"
   ]
  },
  {
   "cell_type": "markdown",
   "id": "cd1cd3a8",
   "metadata": {},
   "source": [
    "## Problem 6: Create a program finds all words starting with 'ə' or 'ü' in a given string."
   ]
  },
  {
   "cell_type": "code",
   "execution_count": 165,
   "id": "898b8acb",
   "metadata": {},
   "outputs": [
    {
     "data": {
      "text/plain": [
       "['Əhəmiyyətli', 'ümumiyyətlə']"
      ]
     },
     "execution_count": 165,
     "metadata": {},
     "output_type": "execute_result"
    }
   ],
   "source": [
    "text6 = \"Əhəmiyyətli olan odurki ümumiyyətlə nəfəs alasan ailə :)\"\n",
    "\n",
    "pattern = f\"\\\\b[üəƏÜ][{letters_lower_aze}{letters_upper_aze}]*\"\n",
    "\n",
    "re.findall(pattern,text6)"
   ]
  },
  {
   "cell_type": "markdown",
   "id": "601fadb9",
   "metadata": {},
   "source": [
    "## Problem 7: Create a program removes all whitespaces from a string."
   ]
  },
  {
   "cell_type": "code",
   "execution_count": 166,
   "id": "e5229c4b",
   "metadata": {},
   "outputs": [
    {
     "data": {
      "text/plain": [
       "'MynameisJavid'"
      ]
     },
     "execution_count": 166,
     "metadata": {},
     "output_type": "execute_result"
    }
   ],
   "source": [
    "re.sub(\"\\s\",\"\",\"My name is Javid\")"
   ]
  },
  {
   "cell_type": "markdown",
   "id": "122d1641",
   "metadata": {},
   "source": [
    "## Problem 8: Create a program finds all words which have more than 4 characters in a string."
   ]
  },
  {
   "cell_type": "code",
   "execution_count": 179,
   "id": "2e1faee8",
   "metadata": {},
   "outputs": [
    {
     "name": "stdout",
     "output_type": "stream",
     "text": [
      "Əhəmiyyətli olan odurki və də olsun cümlədə ümumiyyətlə nəfəs alasan ailə :)\n"
     ]
    },
    {
     "data": {
      "text/plain": [
       "['Əhəmiyyətli', 'olan', 'odurki', 'ümumiyyətlə', 'nəfəs', 'alasan', 'ailə']"
      ]
     },
     "execution_count": 179,
     "metadata": {},
     "output_type": "execute_result"
    }
   ],
   "source": [
    "text7 = \"Əhəmiyyətli olan odurki və də olsun cümlədə ümumiyyətlə nəfəs alasan ailə :)\"\n",
    "\n",
    "print(text7)\n",
    "\n",
    "pattern = r\"\\b[abcçdeəfgğhxıijkqlmnoöprsştuüvyzABCÇDEƏFGĞHXIİJKQLMNOÖPRSŞTUÜVYZ]{4,}\\b\"\n",
    "\n",
    "re.findall(pattern,text6)"
   ]
  },
  {
   "cell_type": "markdown",
   "id": "f8f85a10",
   "metadata": {},
   "source": [
    "## Problem 9: Create a program inserts spaces between words starting with capital letters.\n",
    "\n",
    "### Original string: PythonProgrammingLanguage\n",
    "### Expected output: Python Programming Language"
   ]
  },
  {
   "cell_type": "code",
   "execution_count": 182,
   "id": "a33cb915",
   "metadata": {},
   "outputs": [
    {
     "data": {
      "text/plain": [
       "'Python Programming Language'"
      ]
     },
     "execution_count": 182,
     "metadata": {},
     "output_type": "execute_result"
    }
   ],
   "source": [
    "text8 = \"PythonProgrammingLanguage\"\n",
    "\n",
    "\" \".join(re.findall(\"[A-Z][a-z]*\",text8))"
   ]
  },
  {
   "cell_type": "code",
   "execution_count": null,
   "id": "fadaf24f",
   "metadata": {},
   "outputs": [],
   "source": []
  }
 ],
 "metadata": {
  "kernelspec": {
   "display_name": "Python 3 (ipykernel)",
   "language": "python",
   "name": "python3"
  },
  "language_info": {
   "codemirror_mode": {
    "name": "ipython",
    "version": 3
   },
   "file_extension": ".py",
   "mimetype": "text/x-python",
   "name": "python",
   "nbconvert_exporter": "python",
   "pygments_lexer": "ipython3",
   "version": "3.11.4"
  }
 },
 "nbformat": 4,
 "nbformat_minor": 5
}

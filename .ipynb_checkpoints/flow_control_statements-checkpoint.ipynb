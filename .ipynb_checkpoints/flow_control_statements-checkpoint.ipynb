{
 "cells": [
  {
   "cell_type": "markdown",
   "metadata": {},
   "source": [
    "# Flow Control Statements"
   ]
  },
  {
   "cell_type": "markdown",
   "metadata": {
    "id": "WyMptUViTaMV",
    "jp-MarkdownHeadingCollapsed": true
   },
   "source": [
    "## Conditionals - If , elif and else"
   ]
  },
  {
   "cell_type": "code",
   "execution_count": null,
   "metadata": {
    "id": "JceIe1tVTaMV"
   },
   "outputs": [],
   "source": [
    "# if test expression:\n",
    "#     statement(s)"
   ]
  },
  {
   "cell_type": "code",
   "execution_count": null,
   "metadata": {
    "id": "ixhhdsYMTaMW"
   },
   "outputs": [],
   "source": [
    "a = 33\n",
    "b = 200"
   ]
  },
  {
   "cell_type": "code",
   "execution_count": null,
   "metadata": {
    "id": "hxS-F1urTaMW"
   },
   "outputs": [],
   "source": [
    "if b > a:\n",
    "    print(\"b is greater than a\")"
   ]
  },
  {
   "cell_type": "code",
   "execution_count": null,
   "metadata": {
    "id": "E2v9k9I3TaMW"
   },
   "outputs": [],
   "source": [
    "if b < a:\n",
    "    print(\"b is greater than a\")"
   ]
  },
  {
   "cell_type": "code",
   "execution_count": null,
   "metadata": {
    "id": "93zuBRriTaMW"
   },
   "outputs": [],
   "source": [
    "a = 33\n",
    "b = 33"
   ]
  },
  {
   "cell_type": "code",
   "execution_count": null,
   "metadata": {
    "id": "h73yeyAITaMX"
   },
   "outputs": [],
   "source": [
    "if b > a:\n",
    "    print(\"b is greater than a\")\n",
    "elif a == b:\n",
    "    print(\"a and b are equal\")"
   ]
  },
  {
   "cell_type": "code",
   "execution_count": null,
   "metadata": {
    "id": "Rn9wOGHRTaMX"
   },
   "outputs": [],
   "source": [
    "# if test expression:\n",
    "#     Body of if\n",
    "# elif test expression:\n",
    "#     Body of elif\n",
    "# else: \n",
    "#     Body of else"
   ]
  },
  {
   "cell_type": "markdown",
   "metadata": {
    "id": "z8-ehXjJTaMX"
   },
   "source": [
    "def functionname( parameters ):\n",
    "   \"function_docstring\"\n",
    "    function_suite\n",
    "    return [expression]"
   ]
  },
  {
   "cell_type": "code",
   "execution_count": null,
   "metadata": {
    "id": "J3m1UyKxTaMX"
   },
   "outputs": [],
   "source": [
    "if a>b:\n",
    "    print(\"True\")\n",
    "elif a<b:\n",
    "    print(\"Not True\")\n",
    "else:\n",
    "    print(\"Equal\")"
   ]
  },
  {
   "cell_type": "code",
   "execution_count": null,
   "metadata": {
    "id": "sYxJAFcSTaMY"
   },
   "outputs": [],
   "source": [
    "if a>b:\n",
    "    print(\"True\")\n",
    "elif a<b:\n",
    "    print(\"Not True\")\n",
    "elif a==b:\n",
    "    print(\"Equal\")\n",
    "else:\n",
    "    print(\"Something is going wrong!\")"
   ]
  },
  {
   "cell_type": "code",
   "execution_count": null,
   "metadata": {
    "id": "NlUwEaAeTaMY"
   },
   "outputs": [],
   "source": [
    "def compare_to_five(y):\n",
    "    if y > 5:\n",
    "        return \"Greater\"\n",
    "    elif y < 5:\n",
    "        return \"Less\"\n",
    "    else:\n",
    "        return \"Equal\""
   ]
  },
  {
   "cell_type": "code",
   "execution_count": null,
   "metadata": {
    "id": "DU-IaSzQTaMY",
    "outputId": "957faa11-2bd1-4566-cdcf-6b60c5424cbd"
   },
   "outputs": [
    {
     "data": {
      "text/plain": [
       "'Greater'"
      ]
     },
     "execution_count": 95,
     "metadata": {},
     "output_type": "execute_result"
    }
   ],
   "source": [
    "compare_to_five(10)"
   ]
  },
  {
   "cell_type": "code",
   "execution_count": null,
   "metadata": {
    "id": "wXn116nVTaMa",
    "outputId": "cd61b441-9af7-4e30-9267-d6c9f4f58c55"
   },
   "outputs": [
    {
     "data": {
      "text/plain": [
       "'Less'"
      ]
     },
     "execution_count": 96,
     "metadata": {},
     "output_type": "execute_result"
    }
   ],
   "source": [
    "compare_to_five(-3)"
   ]
  },
  {
   "cell_type": "markdown",
   "metadata": {
    "jp-MarkdownHeadingCollapsed": true
   },
   "source": [
    "## Loops"
   ]
  },
  {
   "cell_type": "markdown",
   "metadata": {},
   "source": [
    "### For loop"
   ]
  },
  {
   "cell_type": "code",
   "execution_count": null,
   "metadata": {},
   "outputs": [],
   "source": [
    "student_id = [1,2,3,4,5,6,7,8,9,10]\n",
    "\n",
    "# for val in sequence:\n",
    "# \tBody of for\n",
    "\n",
    "for a in student_id:\n",
    "    print(a)"
   ]
  },
  {
   "cell_type": "code",
   "execution_count": null,
   "metadata": {},
   "outputs": [],
   "source": [
    "for a in student_id:\n",
    "    if a>5:\n",
    "        print(a)"
   ]
  },
  {
   "cell_type": "code",
   "execution_count": null,
   "metadata": {},
   "outputs": [],
   "source": [
    "for a in student_id:\n",
    "    if a>5:\n",
    "        break # quits the total loop\n",
    "    print(a)"
   ]
  },
  {
   "cell_type": "code",
   "execution_count": null,
   "metadata": {},
   "outputs": [],
   "source": [
    "for a in student_id:\n",
    "    if a>5:\n",
    "        continue # skips that specific loop\n",
    "    print(a)"
   ]
  },
  {
   "cell_type": "code",
   "execution_count": null,
   "metadata": {},
   "outputs": [],
   "source": [
    "even = [0,2,4,6,8,10,12,14,16,18,20]\n",
    "\n",
    "for n in even:\n",
    "    print(n)"
   ]
  },
  {
   "cell_type": "code",
   "execution_count": null,
   "metadata": {},
   "outputs": [],
   "source": [
    "for n in even:\n",
    "    print(n, end=\" \")"
   ]
  },
  {
   "cell_type": "code",
   "execution_count": null,
   "metadata": {},
   "outputs": [],
   "source": [
    "for n in range(10):\n",
    "    print(2 ** n)"
   ]
  },
  {
   "cell_type": "code",
   "execution_count": null,
   "metadata": {},
   "outputs": [],
   "source": [
    "for x in range(20):\n",
    "    if x % 2 == 0:\n",
    "        print (x, end = \" \")\n",
    "    else:\n",
    "        print (\"Odd\", end = \" \")"
   ]
  },
  {
   "cell_type": "code",
   "execution_count": null,
   "metadata": {},
   "outputs": [],
   "source": [
    "for i in range(1,20,4): # start,end,step\n",
    "    print(i)"
   ]
  },
  {
   "cell_type": "markdown",
   "metadata": {},
   "source": [
    "### While Loop"
   ]
  },
  {
   "cell_type": "code",
   "execution_count": null,
   "metadata": {},
   "outputs": [],
   "source": [
    "x = 0\n",
    "while x <= 20:\n",
    "    print(x)\n",
    "    x = x + 2"
   ]
  },
  {
   "cell_type": "code",
   "execution_count": null,
   "metadata": {},
   "outputs": [],
   "source": [
    "x = 0\n",
    "while x <= 20:\n",
    "    print(x)\n",
    "    x += 2"
   ]
  },
  {
   "cell_type": "code",
   "execution_count": null,
   "metadata": {},
   "outputs": [],
   "source": [
    "i = 1\n",
    "while i < 6:\n",
    "    print(i)\n",
    "    i += 1"
   ]
  },
  {
   "cell_type": "code",
   "execution_count": null,
   "metadata": {},
   "outputs": [],
   "source": [
    "i = 1\n",
    "while i < 6:\n",
    "    print(i)\n",
    "    i += 1\n",
    "else: # after the last loop in while\n",
    "    print(\"i is no longer less than 6\")"
   ]
  },
  {
   "cell_type": "markdown",
   "metadata": {
    "id": "HCcbUYXcTaL5",
    "jp-MarkdownHeadingCollapsed": true
   },
   "source": [
    "## Function Definition"
   ]
  },
  {
   "cell_type": "markdown",
   "metadata": {
    "id": "POe-Rrh4TaL5"
   },
   "source": [
    "### None Variable Return Functions"
   ]
  },
  {
   "cell_type": "code",
   "execution_count": null,
   "metadata": {
    "id": "g4wLU283TaL5"
   },
   "outputs": [],
   "source": [
    "# def function_name(parameters):\n",
    "#     \"\"\"docstring\"\"\"\n",
    "#     statement(s)"
   ]
  },
  {
   "cell_type": "code",
   "execution_count": null,
   "metadata": {
    "id": "tSYnumbxTaL5"
   },
   "outputs": [],
   "source": [
    "def sayHi(): \n",
    "    print(\"Hello\")"
   ]
  },
  {
   "cell_type": "code",
   "execution_count": null,
   "metadata": {
    "id": "uzqCzfhzTaL5"
   },
   "outputs": [],
   "source": [
    "sayHi()"
   ]
  },
  {
   "cell_type": "code",
   "execution_count": null,
   "metadata": {
    "id": "D428xUdITaL6"
   },
   "outputs": [],
   "source": [
    "def sayHi(name):\n",
    "    print(\"Hello \" + name)"
   ]
  },
  {
   "cell_type": "code",
   "execution_count": null,
   "metadata": {
    "id": "vYgvoE9WTaL6"
   },
   "outputs": [],
   "source": [
    "sayHi(\"Bob\")\n",
    "sayHi(\"Julia\")"
   ]
  },
  {
   "cell_type": "code",
   "execution_count": null,
   "metadata": {
    "id": "inoo6OWdTaL7"
   },
   "outputs": [],
   "source": [
    "def sayHi(name = \"guest\"): #default parametre\n",
    "    print(\"Hello, \" + name)"
   ]
  },
  {
   "cell_type": "code",
   "execution_count": null,
   "metadata": {
    "id": "41l4cZo0TaL7"
   },
   "outputs": [],
   "source": [
    "sayHi(\"My friend\")"
   ]
  },
  {
   "cell_type": "code",
   "execution_count": null,
   "metadata": {
    "id": "LpQOirCETaL7"
   },
   "outputs": [],
   "source": [
    "def sayHi2(name = \"guest\", surname = \" friend\"):\n",
    "    print(\"Hello, \" + name + surname + \" !\")"
   ]
  },
  {
   "cell_type": "code",
   "execution_count": null,
   "metadata": {
    "id": "o8NIb1-lTaL7"
   },
   "outputs": [],
   "source": [
    "sayHi2()\n",
    "sayHi2(\"John\")\n",
    "sayHi2(\"John\",\" Travolta\")"
   ]
  },
  {
   "cell_type": "code",
   "execution_count": null,
   "metadata": {
    "id": "5nvLqXloTaL8"
   },
   "outputs": [],
   "source": [
    "def sayHi2(name, surname = \" friend\"):\n",
    "    print(\"Hello, \" + name + surname)"
   ]
  },
  {
   "cell_type": "code",
   "execution_count": null,
   "metadata": {
    "id": "GFEYvsgQTaL8"
   },
   "outputs": [],
   "source": [
    "sayHi2(\"Willy\")"
   ]
  },
  {
   "cell_type": "markdown",
   "metadata": {
    "id": "j2xHUbuFTaL9"
   },
   "source": [
    "### Variable Return Function"
   ]
  },
  {
   "cell_type": "code",
   "execution_count": null,
   "metadata": {
    "id": "tYrRgwULTaL9"
   },
   "outputs": [],
   "source": [
    "# def functionname( parameters ):\n",
    "#    \"function_docstring\"\n",
    "#     function_suite\n",
    "#     return [expression]"
   ]
  },
  {
   "cell_type": "code",
   "execution_count": null,
   "metadata": {
    "id": "M2R0eDaETaL9"
   },
   "outputs": [],
   "source": [
    "def get_right_triangle_area(a,b):\n",
    "    result = (a * b)/2 \n",
    "    return result"
   ]
  },
  {
   "cell_type": "code",
   "execution_count": null,
   "metadata": {
    "id": "qTw0D3mwTaL9",
    "outputId": "af724e18-30e5-4109-aa22-aa2eec1ceafa",
    "scrolled": true
   },
   "outputs": [
    {
     "ename": "NameError",
     "evalue": "name 'get_right_triangle_area' is not defined",
     "output_type": "error",
     "traceback": [
      "\u001b[1;31m---------------------------------------------------------------------------\u001b[0m",
      "\u001b[1;31mNameError\u001b[0m                                 Traceback (most recent call last)",
      "\u001b[1;32m<ipython-input-93-6548987ef606>\u001b[0m in \u001b[0;36m<module>\u001b[1;34m\u001b[0m\n\u001b[1;32m----> 1\u001b[1;33m \u001b[0mget_right_triangle_area\u001b[0m\u001b[1;33m(\u001b[0m\u001b[1;36m5\u001b[0m\u001b[1;33m,\u001b[0m\u001b[1;36m6\u001b[0m\u001b[1;33m)\u001b[0m\u001b[1;33m\u001b[0m\u001b[1;33m\u001b[0m\u001b[0m\n\u001b[0m",
      "\u001b[1;31mNameError\u001b[0m: name 'get_right_triangle_area' is not defined"
     ]
    }
   ],
   "source": [
    "get_right_triangle_area(5,6)"
   ]
  },
  {
   "cell_type": "code",
   "execution_count": null,
   "metadata": {
    "id": "HlW0xucaTaL-"
   },
   "outputs": [],
   "source": [
    "result = get_right_triangle_area(2,3)"
   ]
  },
  {
   "cell_type": "code",
   "execution_count": null,
   "metadata": {
    "id": "XGPdv1HZTaL-"
   },
   "outputs": [],
   "source": [
    "result"
   ]
  },
  {
   "cell_type": "code",
   "execution_count": null,
   "metadata": {
    "id": "1kzg4RSdp1Hj"
   },
   "outputs": [],
   "source": [
    "def factorial(x):\n",
    "    \n",
    "    if x == 1:\n",
    "        return 1\n",
    "    else:\n",
    "        return (x * factorial(x-1))\n",
    "\n"
   ]
  },
  {
   "cell_type": "code",
   "execution_count": null,
   "metadata": {
    "id": "QocLpSfhqAgn"
   },
   "outputs": [],
   "source": [
    "factorial(5)"
   ]
  }
 ],
 "metadata": {
  "colab": {
   "name": "week1_day1.ipynb",
   "provenance": []
  },
  "kernelspec": {
   "display_name": "Python 3 (ipykernel)",
   "language": "python",
   "name": "python3"
  },
  "language_info": {
   "codemirror_mode": {
    "name": "ipython",
    "version": 3
   },
   "file_extension": ".py",
   "mimetype": "text/x-python",
   "name": "python",
   "nbconvert_exporter": "python",
   "pygments_lexer": "ipython3",
   "version": "3.11.2"
  }
 },
 "nbformat": 4,
 "nbformat_minor": 4
}
